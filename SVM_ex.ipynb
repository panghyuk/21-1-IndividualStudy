{
  "nbformat": 4,
  "nbformat_minor": 0,
  "metadata": {
    "colab": {
      "name": "SVM.ipynb",
      "provenance": [],
      "collapsed_sections": []
    },
    "kernelspec": {
      "display_name": "Python 3",
      "language": "python",
      "name": "python3"
    },
    "language_info": {
      "codemirror_mode": {
        "name": "ipython",
        "version": 3
      },
      "file_extension": ".py",
      "mimetype": "text/x-python",
      "name": "python",
      "nbconvert_exporter": "python",
      "pygments_lexer": "ipython3",
      "version": "3.8.5"
    }
  },
  "cells": [
    {
      "cell_type": "markdown",
      "metadata": {
        "id": "g63soNOvFUSa"
      },
      "source": [
        "# 서포트 벡터 머신(Support Vector Machines)"
      ]
    },
    {
      "cell_type": "markdown",
      "metadata": {
        "id": "Rrbp02Mk5CDA"
      },
      "source": [
        "* 회귀, 분류, 이상치 탐지 등에 사용되는 지도학습 방법\n",
        "* 클래스 사이의 경계에 위치한 데이터 포인트를 서포트 벡터(support vector)라고 함\n",
        "* 각 지지 벡터가 클래스 사이의 결정 경계를 구분하는데 얼마나 중요한지를 학습\n",
        "* 각 지지 벡터 사이의 마진이 가장 큰 방향으로 학습\n",
        "* 지지 벡터 까지의 거리와 지지 벡터의 중요도를 기반으로 예측을 수행\n",
        "\n",
        "![support vector machine](https://upload.wikimedia.org/wikipedia/commons/thumb/2/20/Svm_separating_hyperplanes.png/220px-Svm_separating_hyperplanes.png)\n",
        "\n",
        "* H3은 두 클래스의 점들을 제대로 분류하고 있지 않음\n",
        "* H1과 H2는 두 클래스의 점들을 분류하는데, H2가 H1보다 더 큰 마진을 갖고 분류하는 것을 확인할 수 있음"
      ]
    },
    {
      "cell_type": "code",
      "metadata": {
        "id": "zBilnkAn4_U3"
      },
      "source": [
        "import multiprocessing\n",
        "import pandas as pd\n",
        "import numpy as np\n",
        "import matplotlib.pyplot as plt\n",
        "plt.style.use(['seaborn-whitegrid'])"
      ],
      "execution_count": null,
      "outputs": []
    },
    {
      "cell_type": "code",
      "metadata": {
        "id": "1YRJRPy6hTe0"
      },
      "source": [
        "from sklearn.svm import SVR,SVC\n",
        "from sklearn.datasets import load_boston, load_diabetes\n",
        "from sklearn.datasets import load_breast_cancer, load_iris, load_wine\n",
        "from sklearn.pipeline import make_pipeline, Pipeline\n",
        "from sklearn.model_selection import train_test_split, cross_validate, GridSearchCV\n",
        "from sklearn.preprocessing import StandardScaler,MinMaxScaler\n",
        "from sklearn.manifold import TSNE\n"
      ],
      "execution_count": null,
      "outputs": []
    },
    {
      "cell_type": "markdown",
      "metadata": {
        "id": "UxS0mPsCh4l0"
      },
      "source": [
        "## SVM을 이용한 회귀 모델과 분류 모델"
      ]
    },
    {
      "cell_type": "markdown",
      "metadata": {
        "id": "NTtcx3p8wtNX"
      },
      "source": [
        "### SVM을 사용한 회귀 모델 (SVR)"
      ]
    },
    {
      "cell_type": "code",
      "metadata": {
        "colab": {
          "base_uri": "https://localhost:8080/"
        },
        "id": "sCrhSrMf5BqB",
        "outputId": "57b3eb06-73b2-4a48-8371-36e1adce14e8"
      },
      "source": [
        "X,y = load_boston(return_X_y=True)\n",
        "X_train, X_test, y_train, y_test = train_test_split(X,y,random_state=123)\n",
        "\n",
        "model=SVR()\n",
        "model.fit(X_train,y_train)\n",
        "\n",
        "print('학습 데이터 점수:{}'.format(model.score(X_train,y_train)))\n",
        "print('평가 데이터 점수:{}'.format(model.score(X_test,y_test)))"
      ],
      "execution_count": null,
      "outputs": [
        {
          "output_type": "stream",
          "text": [
            "학습 데이터 점수:0.2177283706374875\n",
            "평가 데이터 점수:0.13544178468518187\n"
          ],
          "name": "stdout"
        }
      ]
    },
    {
      "cell_type": "markdown",
      "metadata": {
        "id": "CQraX6MzwvtE"
      },
      "source": [
        "### SVM을 사용한 분류 모델 (SVC)"
      ]
    },
    {
      "cell_type": "code",
      "metadata": {
        "colab": {
          "base_uri": "https://localhost:8080/"
        },
        "id": "bnh5fS8gFbtK",
        "outputId": "9be42623-3c6b-45d4-e4fe-c751896aa776"
      },
      "source": [
        "X,y = load_breast_cancer(return_X_y=True)\n",
        "X_train, X_test, y_train, y_test = train_test_split(X,y,random_state=123)\n",
        "\n",
        "model=SVC()\n",
        "model.fit(X_train,y_train)\n",
        "\n",
        "print('학습 데이터 점수:{}'.format(model.score(X_train,y_train)))\n",
        "print('평가 데이터 점수:{}'.format(model.score(X_test,y_test)))"
      ],
      "execution_count": null,
      "outputs": [
        {
          "output_type": "stream",
          "text": [
            "학습 데이터 점수:0.9014084507042254\n",
            "평가 데이터 점수:0.9230769230769231\n"
          ],
          "name": "stdout"
        }
      ]
    },
    {
      "cell_type": "markdown",
      "metadata": {
        "id": "zgd_dvKrGeFh"
      },
      "source": [
        "## 커널 기법\n",
        "\n",
        "* 입력 데이터를 고차원 공간에 사상해서 비선형 특징을 학습할 수 있도록 확장하는 방법\n",
        "* scikit-learn에서는 Linear, Polynomial, RBF(Radial Basis Function)등 다양한 커널 기법을 지원\n",
        "\n",
        "![kernel trick](https://scikit-learn.org/stable/_images/sphx_glr_plot_iris_svc_0011.png)"
      ]
    },
    {
      "cell_type": "code",
      "metadata": {
        "colab": {
          "base_uri": "https://localhost:8080/"
        },
        "id": "Azq1UJtZF8sU",
        "outputId": "92f57af0-27df-414d-cd7e-235046b6a2d9"
      },
      "source": [
        "X,y = load_boston(return_X_y=True)\n",
        "X_train, X_test, y_train, y_test = train_test_split(X,y,random_state=123)\n",
        "\n",
        "linear_svr=SVR(kernel='linear')\n",
        "linear_svr.fit(X_train,y_train)\n",
        "\n",
        "print(\"Linear SVR 학습데이터 점수: {}\".format(linear_svr.score(X_train,y_train)))\n",
        "print(\"Linear SVR 평가데이터 점수: {}\".format(linear_svr.score(X_test,y_test)))\n",
        "\n",
        "poly_svr=SVR(kernel='poly')\n",
        "poly_svr.fit(X_train,y_train)\n",
        "\n",
        "print(\"poly SVR 학습데이터 점수: {}\".format(poly_svr.score(X_train,y_train)))\n",
        "print(\"poly SVR 평가데이터 점수: {}\".format(poly_svr.score(X_test,y_test)))\n",
        "\n",
        "rbf_svr=SVR(kernel='rbf')\n",
        "rbf_svr.fit(X_train,y_train)\n",
        "\n",
        "print(\"RBF SVR 학습데이터 점수: {}\".format(rbf_svr.score(X_train,y_train)))\n",
        "print(\"RBF SVR 평가데이터 점수: {}\".format(rbf_svr.score(X_test,y_test)))"
      ],
      "execution_count": null,
      "outputs": [
        {
          "output_type": "stream",
          "text": [
            "Linear SVR 학습데이터 점수: 0.715506620496448\n",
            "Linear SVR 평가데이터 점수: 0.6380398541506058\n",
            "poly SVR 학습데이터 점수: 0.2024454261446289\n",
            "poly SVR 평가데이터 점수: 0.133668450367462\n",
            "RBF SVR 학습데이터 점수: 0.2177283706374875\n",
            "RBF SVR 평가데이터 점수: 0.13544178468518187\n"
          ],
          "name": "stdout"
        }
      ]
    },
    {
      "cell_type": "code",
      "metadata": {
        "colab": {
          "base_uri": "https://localhost:8080/"
        },
        "id": "KuvRIzarJO0H",
        "outputId": "fe6b02f2-b402-4175-f0a4-0a3c0a188de9"
      },
      "source": [
        "X,y = load_breast_cancer(return_X_y=True)\n",
        "X_train, X_test, y_train, y_test = train_test_split(X,y,random_state=123)\n",
        "\n",
        "linear_svc=SVC(kernel='linear')\n",
        "linear_svc.fit(X_train,y_train)\n",
        "\n",
        "print(\"Linear SVC 학습데이터 점수: {}\".format(linear_svc.score(X_train,y_train)))\n",
        "print(\"Linear SVC 평가데이터 점수: {}\".format(linear_svc.score(X_test,y_test)))\n",
        "\n",
        "poly_svc=SVC(kernel='poly')\n",
        "poly_svc.fit(X_train,y_train)\n",
        "\n",
        "print(\"poly SVC 학습데이터 점수: {}\".format(poly_svc.score(X_train,y_train)))\n",
        "print(\"poly SVC 평가데이터 점수: {}\".format(poly_svc.score(X_test,y_test)))\n",
        "\n",
        "rbf_svc=SVC(kernel='rbf')\n",
        "rbf_svc.fit(X_train,y_train)\n",
        "\n",
        "print(\"RBF SVC 학습데이터 점수: {}\".format(rbf_svc.score(X_train,y_train)))\n",
        "print(\"RBF SVC 평가데이터 점수: {}\".format(rbf_svc.score(X_test,y_test)))"
      ],
      "execution_count": null,
      "outputs": [
        {
          "output_type": "stream",
          "text": [
            "Linear SVC 학습데이터 점수: 0.960093896713615\n",
            "Linear SVC 평가데이터 점수: 0.986013986013986\n",
            "poly SVC 학습데이터 점수: 0.9014084507042254\n",
            "poly SVC 평가데이터 점수: 0.9230769230769231\n",
            "RBF SVC 학습데이터 점수: 0.9014084507042254\n",
            "RBF SVC 평가데이터 점수: 0.9230769230769231\n"
          ],
          "name": "stdout"
        }
      ]
    },
    {
      "cell_type": "markdown",
      "metadata": {
        "id": "ysbUu5o3Lm2V"
      },
      "source": [
        "## 매개변수 튜닝\n",
        "\n",
        "* SVM은 사용하는 커널에 따라 다양한 매개변수 설정 가능\n",
        "* 매개변수를 변경하면서 성능변화를 관찰"
      ]
    },
    {
      "cell_type": "code",
      "metadata": {
        "id": "JyCxM4abOZyO"
      },
      "source": [
        "X,y = load_breast_cancer(return_X_y=True)\n",
        "X_train, X_test, y_train, y_test = train_test_split(X,y,random_state=123)"
      ],
      "execution_count": null,
      "outputs": []
    },
    {
      "cell_type": "code",
      "metadata": {
        "colab": {
          "base_uri": "https://localhost:8080/"
        },
        "id": "QN4BSxiaJspb",
        "outputId": "5cab0af6-2f8d-4e84-fab2-f001ef3762a1"
      },
      "source": [
        "poly_svc=SVC(kernel='poly', degree = 2, C = 0.1, gamma = 'auto')\n",
        "poly_svc.fit(X_train,y_train)\n",
        "\n",
        "print('kernel=poly, degree={},C={},gamma={}'.format(2,0.1,'auto'))\n",
        "print(\"poly SVC 학습데이터 점수: {}\".format(poly_svc.score(X_train,y_train)))\n",
        "print(\"poly SVC 평가데이터 점수: {}\".format(poly_svc.score(X_test,y_test)))"
      ],
      "execution_count": null,
      "outputs": [
        {
          "output_type": "stream",
          "text": [
            "kernel=poly, degree=2,C=0.1,gamma=auto\n",
            "poly SVC 학습데이터 점수: 0.9835680751173709\n",
            "poly SVC 평가데이터 점수: 0.993006993006993\n"
          ],
          "name": "stdout"
        }
      ]
    },
    {
      "cell_type": "code",
      "metadata": {
        "id": "P7hOhO1oOvVC",
        "colab": {
          "base_uri": "https://localhost:8080/"
        },
        "outputId": "af2ae6f3-2fb5-46f0-a8c7-787baee162a7"
      },
      "source": [
        "rbf_svc=SVC(kernel='rbf', C=2.0, gamma='scale')\n",
        "rbf_svc.fit(X_train,y_train)\n",
        "\n",
        "print('Kernel=RBF, C={}, gamma={}'.format(2.0,'scale'))\n",
        "print(\"RBF SVC 학습데이터 점수: {}\".format(rbf_svc.score(X_train,y_train)))\n",
        "print(\"RBF SVC 평가데이터 점수: {}\".format(rbf_svc.score(X_test,y_test)))"
      ],
      "execution_count": null,
      "outputs": [
        {
          "output_type": "stream",
          "text": [
            "Kernel=RBF, C=2.0, gamma=scale\n",
            "RBF SVC 학습데이터 점수: 0.9154929577464789\n",
            "RBF SVC 평가데이터 점수: 0.9370629370629371\n"
          ],
          "name": "stdout"
        }
      ]
    },
    {
      "cell_type": "markdown",
      "metadata": {
        "id": "aEQL8h8WU0An"
      },
      "source": [
        "## 데이터 전처리\n",
        "\n",
        "* SVM은 입력 데이터가 정규화 되어야 좋은 성능을 보임\n",
        "* 주로 모든 특성 값을 [0, 1] 범위로 맞추는 방법을 사용\n",
        "* scikit-learn의 StandardScaler 또는 MinMaxScaler를 사용해 정규화"
      ]
    },
    {
      "cell_type": "code",
      "metadata": {
        "id": "RujhqUOsVU73"
      },
      "source": [
        "X,y = load_breast_cancer(return_X_y=True)\n",
        "X_train, X_test, y_train, y_test = train_test_split(X,y,random_state=123)"
      ],
      "execution_count": null,
      "outputs": []
    },
    {
      "cell_type": "code",
      "metadata": {
        "id": "DWau9A6UWds4",
        "colab": {
          "base_uri": "https://localhost:8080/"
        },
        "outputId": "0f48b47c-3130-46ea-9928-10c0b1b20794"
      },
      "source": [
        "model =SVC()\n",
        "model.fit(X_train,y_train)\n",
        "\n",
        "print(\"SVC 학습데이터 점수: {}\".format(model.score(X_train,y_train)))\n",
        "print(\"SVC 평가데이터 점수: {}\".format(model.score(X_test,y_test)))"
      ],
      "execution_count": null,
      "outputs": [
        {
          "output_type": "stream",
          "text": [
            "SVC 학습데이터 점수: 0.9014084507042254\n",
            "SVC 평가데이터 점수: 0.9230769230769231\n"
          ],
          "name": "stdout"
        }
      ]
    },
    {
      "cell_type": "code",
      "metadata": {
        "id": "y_ScHENS0ssY"
      },
      "source": [
        "scaler = StandardScaler()\n",
        "X_train = scaler.fit_transform(X_train)\n",
        "X_test = scaler.transform(X_test)"
      ],
      "execution_count": null,
      "outputs": []
    },
    {
      "cell_type": "code",
      "metadata": {
        "id": "R2_4R6JE0ssi",
        "colab": {
          "base_uri": "https://localhost:8080/"
        },
        "outputId": "34e0e12c-4d06-47ec-e612-ea130989466c"
      },
      "source": [
        "model =SVC()\n",
        "model.fit(X_train,y_train)\n",
        "\n",
        "print(\"SVC 학습데이터 점수: {}\".format(model.score(X_train,y_train)))\n",
        "print(\"SVC 평가데이터 점수: {}\".format(model.score(X_test,y_test)))"
      ],
      "execution_count": null,
      "outputs": [
        {
          "output_type": "stream",
          "text": [
            "SVC 학습데이터 점수: 0.9835680751173709\n",
            "SVC 평가데이터 점수: 0.986013986013986\n"
          ],
          "name": "stdout"
        }
      ]
    },
    {
      "cell_type": "code",
      "metadata": {
        "id": "_EVkj33WVQOu"
      },
      "source": [
        "scaler = MinMaxScaler()\n",
        "X_train = scaler.fit_transform(X_train)\n",
        "X_test = scaler.transform(X_test)"
      ],
      "execution_count": null,
      "outputs": []
    },
    {
      "cell_type": "code",
      "metadata": {
        "id": "D7Kj3q_bVmeN",
        "colab": {
          "base_uri": "https://localhost:8080/"
        },
        "outputId": "69539c85-e896-4350-b867-386dfc3d3b98"
      },
      "source": [
        "model =SVC()\n",
        "model.fit(X_train,y_train)\n",
        "\n",
        "print(\"SVC 학습데이터 점수: {}\".format(model.score(X_train,y_train)))\n",
        "print(\"SVC 평가데이터 점수: {}\".format(model.score(X_test,y_test)))"
      ],
      "execution_count": null,
      "outputs": [
        {
          "output_type": "stream",
          "text": [
            "SVC 학습데이터 점수: 0.9812206572769953\n",
            "SVC 평가데이터 점수: 0.986013986013986\n"
          ],
          "name": "stdout"
        }
      ]
    },
    {
      "cell_type": "markdown",
      "metadata": {
        "id": "zLjtZC7gYr7R"
      },
      "source": [
        "## Linear SVR"
      ]
    },
    {
      "cell_type": "markdown",
      "metadata": {
        "id": "tbZicmjAZBZp"
      },
      "source": [
        "### 보스턴 주택 가격"
      ]
    },
    {
      "cell_type": "code",
      "metadata": {
        "id": "X39InXCSYuPf"
      },
      "source": [
        "X,y = load_boston(return_X_y=True)\n",
        "X_train,X_test,y_train,y_test = train_test_split(X,y,test_size=0.2)"
      ],
      "execution_count": null,
      "outputs": []
    },
    {
      "cell_type": "code",
      "metadata": {
        "id": "I1TKwSKhdLaU"
      },
      "source": [
        "scaler = StandardScaler()\n",
        "scaler.fit(X_train)\n",
        "X_train = scaler.transform(X_train)\n",
        "X_test = scaler.transform(X_test)"
      ],
      "execution_count": null,
      "outputs": []
    },
    {
      "cell_type": "code",
      "metadata": {
        "id": "deIvkeKRZqTU",
        "colab": {
          "base_uri": "https://localhost:8080/"
        },
        "outputId": "6be54e84-07c3-4b54-fd52-b66368f9b6cb"
      },
      "source": [
        "model = SVR(kernel='linear')\n",
        "model.fit(X_train,y_train)"
      ],
      "execution_count": null,
      "outputs": [
        {
          "output_type": "execute_result",
          "data": {
            "text/plain": [
              "SVR(C=1.0, cache_size=200, coef0=0.0, degree=3, epsilon=0.1, gamma='scale',\n",
              "    kernel='linear', max_iter=-1, shrinking=True, tol=0.001, verbose=False)"
            ]
          },
          "metadata": {
            "tags": []
          },
          "execution_count": 18
        }
      ]
    },
    {
      "cell_type": "code",
      "metadata": {
        "id": "zEknoMb5aRBt",
        "colab": {
          "base_uri": "https://localhost:8080/"
        },
        "outputId": "2e111200-6184-4058-d97f-9006a474c13d"
      },
      "source": [
        "print(\"학습데이터 점수: {}\".format(model.score(X_train,y_train)))\n",
        "print(\"평가데이터 점수: {}\".format(model.score(X_test,y_test)))"
      ],
      "execution_count": null,
      "outputs": [
        {
          "output_type": "stream",
          "text": [
            "학습데이터 점수: 0.7128783778480965\n",
            "평가데이터 점수: 0.7197805670662889\n"
          ],
          "name": "stdout"
        }
      ]
    },
    {
      "cell_type": "code",
      "metadata": {
        "id": "S3ipWjbFiete",
        "colab": {
          "base_uri": "https://localhost:8080/",
          "height": 281
        },
        "outputId": "f57c8a2b-e3ef-4d4e-9ee9-845bfb1c1220"
      },
      "source": [
        "X_comp = TSNE(n_components=1).fit_transform(X)\n",
        "plt.scatter(X_comp,y)"
      ],
      "execution_count": null,
      "outputs": [
        {
          "output_type": "execute_result",
          "data": {
            "text/plain": [
              "<matplotlib.collections.PathCollection at 0x7fc22d59de50>"
            ]
          },
          "metadata": {
            "tags": []
          },
          "execution_count": 20
        },
        {
          "output_type": "display_data",
          "data": {
            "image/png": "[encoded data removed]",
            "text/plain": [
              "<Figure size 432x288 with 1 Axes>"
            ]
          },
          "metadata": {
            "tags": [],
            "needs_background": "light"
          }
        }
      ]
    },
    {
      "cell_type": "code",
      "metadata": {
        "id": "IqLc69hojcIr",
        "colab": {
          "base_uri": "https://localhost:8080/",
          "height": 281
        },
        "outputId": "3562c8ba-c7a4-4832-a4b8-30ed3e3e1c04"
      },
      "source": [
        "model.fit(X_comp,y)\n",
        "predict = model.predict(X_comp)\n",
        "plt.scatter(X_comp,y)\n",
        "plt.scatter(X_comp,predict,color='r')"
      ],
      "execution_count": null,
      "outputs": [
        {
          "output_type": "execute_result",
          "data": {
            "text/plain": [
              "<matplotlib.collections.PathCollection at 0x7fc22d0835d0>"
            ]
          },
          "metadata": {
            "tags": []
          },
          "execution_count": 21
        },
        {
          "output_type": "display_data",
          "data": {
            "image/png": "[encoded data removed]",
            "text/plain": [
              "<Figure size 432x288 with 1 Axes>"
            ]
          },
          "metadata": {
            "tags": [],
            "needs_background": "light"
          }
        }
      ]
    },
    {
      "cell_type": "code",
      "metadata": {
        "id": "YzGeXLmZbGY7",
        "colab": {
          "base_uri": "https://localhost:8080/"
        },
        "outputId": "e989d682-1a5c-4baa-b27a-8b6928fccf9b"
      },
      "source": [
        "estimator = make_pipeline(StandardScaler(),SVR(kernel='linear'))\n",
        "cross_validate(estimator=estimator,X=X,y=y,cv=5,n_jobs=multiprocessing.cpu_count(),verbose=True)"
      ],
      "execution_count": null,
      "outputs": [
        {
          "output_type": "stream",
          "text": [
            "[Parallel(n_jobs=2)]: Using backend LokyBackend with 2 concurrent workers.\n",
            "[Parallel(n_jobs=2)]: Done   5 out of   5 | elapsed:    1.1s finished\n"
          ],
          "name": "stderr"
        },
        {
          "output_type": "execute_result",
          "data": {
            "text/plain": [
              "{'fit_time': array([0.02864313, 0.02756381, 0.02631044, 0.02694225, 0.02472591]),\n",
              " 'score_time': array([0.00215793, 0.00227642, 0.00206733, 0.00204563, 0.00135541]),\n",
              " 'test_score': array([0.76908568, 0.72180141, 0.56428426, 0.14083339, 0.07810211])}"
            ]
          },
          "metadata": {
            "tags": []
          },
          "execution_count": 22
        }
      ]
    },
    {
      "cell_type": "code",
      "metadata": {
        "id": "Hfo2Z6T5jo73",
        "colab": {
          "base_uri": "https://localhost:8080/"
        },
        "outputId": "61d23368-525a-49af-ec6b-07f5b654fa1a"
      },
      "source": [
        "pipe = Pipeline([('scaler',StandardScaler()),('model',SVR(kernel='linear'))])\n",
        "\n",
        "param_grid = [{'model__gamma':['scale','auto'],'model__C':[1.0, 0.1, 0.01],'model__epsilon':[1.0,0.1,0.01]}]\n",
        "\n",
        "gs = GridSearchCV(estimator=pipe, param_grid=param_grid, n_jobs=multiprocessing.cpu_count(), cv=5, verbose=True)\n",
        "\n",
        "gs.fit(X,y)"
      ],
      "execution_count": null,
      "outputs": [
        {
          "output_type": "stream",
          "text": [
            "Fitting 5 folds for each of 18 candidates, totalling 90 fits\n"
          ],
          "name": "stdout"
        },
        {
          "output_type": "stream",
          "text": [
            "[Parallel(n_jobs=2)]: Using backend LokyBackend with 2 concurrent workers.\n",
            "[Parallel(n_jobs=2)]: Done  90 out of  90 | elapsed:    1.8s finished\n"
          ],
          "name": "stderr"
        },
        {
          "output_type": "execute_result",
          "data": {
            "text/plain": [
              "GridSearchCV(cv=5, error_score=nan,\n",
              "             estimator=Pipeline(memory=None,\n",
              "                                steps=[('scaler',\n",
              "                                        StandardScaler(copy=True,\n",
              "                                                       with_mean=True,\n",
              "                                                       with_std=True)),\n",
              "                                       ('model',\n",
              "                                        SVR(C=1.0, cache_size=200, coef0=0.0,\n",
              "                                            degree=3, epsilon=0.1,\n",
              "                                            gamma='scale', kernel='linear',\n",
              "                                            max_iter=-1, shrinking=True,\n",
              "                                            tol=0.001, verbose=False))],\n",
              "                                verbose=False),\n",
              "             iid='deprecated', n_jobs=2,\n",
              "             param_grid=[{'model__C': [1.0, 0.1, 0.01],\n",
              "                          'model__epsilon': [1.0, 0.1, 0.01],\n",
              "                          'model__gamma': ['scale', 'auto']}],\n",
              "             pre_dispatch='2*n_jobs', refit=True, return_train_score=False,\n",
              "             scoring=None, verbose=True)"
            ]
          },
          "metadata": {
            "tags": []
          },
          "execution_count": 25
        }
      ]
    },
    {
      "cell_type": "code",
      "metadata": {
        "id": "G1BG0w50iUNF",
        "colab": {
          "base_uri": "https://localhost:8080/"
        },
        "outputId": "1f644b82-9ada-4420-e909-0e633461134a"
      },
      "source": [
        "gs.best_estimator_"
      ],
      "execution_count": null,
      "outputs": [
        {
          "output_type": "execute_result",
          "data": {
            "text/plain": [
              "Pipeline(memory=None,\n",
              "         steps=[('scaler',\n",
              "                 StandardScaler(copy=True, with_mean=True, with_std=True)),\n",
              "                ('model',\n",
              "                 SVR(C=0.1, cache_size=200, coef0=0.0, degree=3, epsilon=1.0,\n",
              "                     gamma='scale', kernel='linear', max_iter=-1,\n",
              "                     shrinking=True, tol=0.001, verbose=False))],\n",
              "         verbose=False)"
            ]
          },
          "metadata": {
            "tags": []
          },
          "execution_count": 26
        }
      ]
    },
    {
      "cell_type": "markdown",
      "metadata": {
        "id": "Tlmsj9sHlB_i"
      },
      "source": [
        "### 당뇨병"
      ]
    },
    {
      "cell_type": "code",
      "metadata": {
        "id": "5xETvUYk68wX"
      },
      "source": [
        "X,y = load_diabetes(return_X_y=True)\n",
        "X_train,X_test,y_train,y_test = train_test_split(X,y,test_size=0.2)"
      ],
      "execution_count": null,
      "outputs": []
    },
    {
      "cell_type": "code",
      "metadata": {
        "id": "-mhfDCHN68wa"
      },
      "source": [
        "scaler = StandardScaler()\n",
        "scaler.fit(X_train)\n",
        "X_train = scaler.transform(X_train)\n",
        "X_test = scaler.transform(X_test)"
      ],
      "execution_count": null,
      "outputs": []
    },
    {
      "cell_type": "code",
      "metadata": {
        "colab": {
          "base_uri": "https://localhost:8080/"
        },
        "id": "T-81zzdX68wa",
        "outputId": "2835eea9-727b-4d14-d2f7-e5e58c90b64b"
      },
      "source": [
        "model = SVR(kernel='linear')\n",
        "model.fit(X_train,y_train)"
      ],
      "execution_count": null,
      "outputs": [
        {
          "output_type": "execute_result",
          "data": {
            "text/plain": [
              "SVR(C=1.0, cache_size=200, coef0=0.0, degree=3, epsilon=0.1, gamma='scale',\n",
              "    kernel='linear', max_iter=-1, shrinking=True, tol=0.001, verbose=False)"
            ]
          },
          "metadata": {
            "tags": []
          },
          "execution_count": 29
        }
      ]
    },
    {
      "cell_type": "code",
      "metadata": {
        "colab": {
          "base_uri": "https://localhost:8080/"
        },
        "id": "tOQEd71868wb",
        "outputId": "f633d8c4-1106-4c09-d772-ae8c43d39c29"
      },
      "source": [
        "print(\"학습데이터 점수: {}\".format(model.score(X_train,y_train)))\n",
        "print(\"평가데이터 점수: {}\".format(model.score(X_test,y_test)))"
      ],
      "execution_count": null,
      "outputs": [
        {
          "output_type": "stream",
          "text": [
            "학습데이터 점수: 0.5066185714175389\n",
            "평가데이터 점수: 0.469651390626191\n"
          ],
          "name": "stdout"
        }
      ]
    },
    {
      "cell_type": "code",
      "metadata": {
        "colab": {
          "base_uri": "https://localhost:8080/",
          "height": 281
        },
        "id": "tfPVI0vT68wb",
        "outputId": "7994d5e9-1984-4b0c-94bb-fe5545572bd0"
      },
      "source": [
        "X_comp = TSNE(n_components=1).fit_transform(X)\n",
        "plt.scatter(X_comp,y)"
      ],
      "execution_count": null,
      "outputs": [
        {
          "output_type": "execute_result",
          "data": {
            "text/plain": [
              "<matplotlib.collections.PathCollection at 0x7fc22d622490>"
            ]
          },
          "metadata": {
            "tags": []
          },
          "execution_count": 31
        },
        {
          "output_type": "display_data",
          "data": {
            "image/png": "[encoded data removed]",
            "text/plain": [
              "<Figure size 432x288 with 1 Axes>"
            ]
          },
          "metadata": {
            "tags": [],
            "needs_background": "light"
          }
        }
      ]
    },
    {
      "cell_type": "code",
      "metadata": {
        "colab": {
          "base_uri": "https://localhost:8080/",
          "height": 281
        },
        "id": "Gy7PiRw_68wc",
        "outputId": "705068f4-72e5-42ad-ef8e-f04e97799634"
      },
      "source": [
        "model.fit(X_comp,y)\n",
        "predict = model.predict(X_comp)\n",
        "plt.scatter(X_comp,y)\n",
        "plt.scatter(X_comp,predict,color='r')"
      ],
      "execution_count": null,
      "outputs": [
        {
          "output_type": "execute_result",
          "data": {
            "text/plain": [
              "<matplotlib.collections.PathCollection at 0x7fc22c613350>"
            ]
          },
          "metadata": {
            "tags": []
          },
          "execution_count": 32
        },
        {
          "output_type": "display_data",
          "data": {
            "image/png": "[encoded data removed]",
            "text/plain": [
              "<Figure size 432x288 with 1 Axes>"
            ]
          },
          "metadata": {
            "tags": [],
            "needs_background": "light"
          }
        }
      ]
    },
    {
      "cell_type": "code",
      "metadata": {
        "colab": {
          "base_uri": "https://localhost:8080/"
        },
        "id": "O99vXE5368wc",
        "outputId": "9f1915b4-2b08-4d2e-a9a3-90cd0cb5e144"
      },
      "source": [
        "estimator = make_pipeline(StandardScaler(),SVR(kernel='linear'))\n",
        "cross_validate(estimator=estimator,X=X,y=y,cv=5,n_jobs=multiprocessing.cpu_count(),verbose=True)"
      ],
      "execution_count": null,
      "outputs": [
        {
          "output_type": "stream",
          "text": [
            "[Parallel(n_jobs=2)]: Using backend LokyBackend with 2 concurrent workers.\n",
            "[Parallel(n_jobs=2)]: Done   5 out of   5 | elapsed:    0.8s finished\n"
          ],
          "name": "stderr"
        },
        {
          "output_type": "execute_result",
          "data": {
            "text/plain": [
              "{'fit_time': array([0.01897264, 0.0143168 , 0.01083302, 0.01133633, 0.01186538]),\n",
              " 'score_time': array([0.00184298, 0.00184274, 0.00174189, 0.00165677, 0.00115895]),\n",
              " 'test_score': array([0.43037242, 0.51653341, 0.48275332, 0.42247202, 0.53076481])}"
            ]
          },
          "metadata": {
            "tags": []
          },
          "execution_count": 33
        }
      ]
    },
    {
      "cell_type": "code",
      "metadata": {
        "colab": {
          "base_uri": "https://localhost:8080/"
        },
        "id": "5xbkwNIx68wc",
        "outputId": "9f667d5a-ac85-4acc-8652-7b12e0cd1272"
      },
      "source": [
        "pipe = Pipeline([('scaler',StandardScaler()),('model',SVR(kernel='linear'))])\n",
        "\n",
        "param_grid = [{'model__gamma':['scale','auto'],'model__C':[1.0, 0.1, 0.01],'model__epsilon':[1.0,0.1,0.01]}]\n",
        "\n",
        "gs = GridSearchCV(estimator=pipe, param_grid=param_grid, n_jobs=multiprocessing.cpu_count(), cv=5, verbose=True)\n",
        "\n",
        "gs.fit(X,y)"
      ],
      "execution_count": null,
      "outputs": [
        {
          "output_type": "stream",
          "text": [
            "[Parallel(n_jobs=2)]: Using backend LokyBackend with 2 concurrent workers.\n"
          ],
          "name": "stderr"
        },
        {
          "output_type": "stream",
          "text": [
            "Fitting 5 folds for each of 18 candidates, totalling 90 fits\n"
          ],
          "name": "stdout"
        },
        {
          "output_type": "stream",
          "text": [
            "[Parallel(n_jobs=2)]: Done  90 out of  90 | elapsed:    0.7s finished\n"
          ],
          "name": "stderr"
        },
        {
          "output_type": "execute_result",
          "data": {
            "text/plain": [
              "GridSearchCV(cv=5, error_score=nan,\n",
              "             estimator=Pipeline(memory=None,\n",
              "                                steps=[('scaler',\n",
              "                                        StandardScaler(copy=True,\n",
              "                                                       with_mean=True,\n",
              "                                                       with_std=True)),\n",
              "                                       ('model',\n",
              "                                        SVR(C=1.0, cache_size=200, coef0=0.0,\n",
              "                                            degree=3, epsilon=0.1,\n",
              "                                            gamma='scale', kernel='linear',\n",
              "                                            max_iter=-1, shrinking=True,\n",
              "                                            tol=0.001, verbose=False))],\n",
              "                                verbose=False),\n",
              "             iid='deprecated', n_jobs=2,\n",
              "             param_grid=[{'model__C': [1.0, 0.1, 0.01],\n",
              "                          'model__epsilon': [1.0, 0.1, 0.01],\n",
              "                          'model__gamma': ['scale', 'auto']}],\n",
              "             pre_dispatch='2*n_jobs', refit=True, return_train_score=False,\n",
              "             scoring=None, verbose=True)"
            ]
          },
          "metadata": {
            "tags": []
          },
          "execution_count": 34
        }
      ]
    },
    {
      "cell_type": "code",
      "metadata": {
        "colab": {
          "base_uri": "https://localhost:8080/"
        },
        "id": "xQ8aF2sJ68wd",
        "outputId": "13aaf2b3-8a3c-47eb-f7cb-756feb562156"
      },
      "source": [
        "gs.best_estimator_"
      ],
      "execution_count": null,
      "outputs": [
        {
          "output_type": "execute_result",
          "data": {
            "text/plain": [
              "Pipeline(memory=None,\n",
              "         steps=[('scaler',\n",
              "                 StandardScaler(copy=True, with_mean=True, with_std=True)),\n",
              "                ('model',\n",
              "                 SVR(C=1.0, cache_size=200, coef0=0.0, degree=3, epsilon=1.0,\n",
              "                     gamma='scale', kernel='linear', max_iter=-1,\n",
              "                     shrinking=True, tol=0.001, verbose=False))],\n",
              "         verbose=False)"
            ]
          },
          "metadata": {
            "tags": []
          },
          "execution_count": 35
        }
      ]
    },
    {
      "cell_type": "markdown",
      "metadata": {
        "id": "4d3ZxGT-rzSF"
      },
      "source": [
        "## Kernel SVR"
      ]
    },
    {
      "cell_type": "markdown",
      "metadata": {
        "id": "sJ4hf_LMr6i4"
      },
      "source": [
        "### 보스턴 주택 가격"
      ]
    },
    {
      "cell_type": "code",
      "metadata": {
        "id": "WCBOXqpo7oTp"
      },
      "source": [
        "X,y = load_boston(return_X_y=True)\n",
        "X_train,X_test,y_train,y_test = train_test_split(X,y,test_size=0.2)"
      ],
      "execution_count": null,
      "outputs": []
    },
    {
      "cell_type": "code",
      "metadata": {
        "id": "YprHTcLz7oTs"
      },
      "source": [
        "scaler = StandardScaler()\n",
        "scaler.fit(X_train)\n",
        "X_train = scaler.transform(X_train)\n",
        "X_test = scaler.transform(X_test)"
      ],
      "execution_count": null,
      "outputs": []
    },
    {
      "cell_type": "code",
      "metadata": {
        "colab": {
          "base_uri": "https://localhost:8080/"
        },
        "id": "R0ImIHKi7oTs",
        "outputId": "df5fe99a-d76f-424b-b16c-57c091814b61"
      },
      "source": [
        "model = SVR(kernel='rbf')\n",
        "model.fit(X_train,y_train)"
      ],
      "execution_count": null,
      "outputs": [
        {
          "output_type": "execute_result",
          "data": {
            "text/plain": [
              "SVR(C=1.0, cache_size=200, coef0=0.0, degree=3, epsilon=0.1, gamma='scale',\n",
              "    kernel='rbf', max_iter=-1, shrinking=True, tol=0.001, verbose=False)"
            ]
          },
          "metadata": {
            "tags": []
          },
          "execution_count": 38
        }
      ]
    },
    {
      "cell_type": "code",
      "metadata": {
        "colab": {
          "base_uri": "https://localhost:8080/"
        },
        "id": "DyXcqjH37oTt",
        "outputId": "2977f4e7-c9bf-4506-8f0f-0692f65f8019"
      },
      "source": [
        "print(\"학습데이터 점수: {}\".format(model.score(X_train,y_train)))\n",
        "print(\"평가데이터 점수: {}\".format(model.score(X_test,y_test)))"
      ],
      "execution_count": null,
      "outputs": [
        {
          "output_type": "stream",
          "text": [
            "학습데이터 점수: 0.662842909822462\n",
            "평가데이터 점수: 0.7054323530798594\n"
          ],
          "name": "stdout"
        }
      ]
    },
    {
      "cell_type": "code",
      "metadata": {
        "colab": {
          "base_uri": "https://localhost:8080/",
          "height": 281
        },
        "id": "F9x2kMp77oTu",
        "outputId": "dd872508-d458-42e3-b1da-9895ba93b897"
      },
      "source": [
        "X_comp = TSNE(n_components=1).fit_transform(X)\n",
        "plt.scatter(X_comp,y)"
      ],
      "execution_count": null,
      "outputs": [
        {
          "output_type": "execute_result",
          "data": {
            "text/plain": [
              "<matplotlib.collections.PathCollection at 0x7fc22c6137d0>"
            ]
          },
          "metadata": {
            "tags": []
          },
          "execution_count": 40
        },
        {
          "output_type": "display_data",
          "data": {
            "image/png": "[encoded data removed]",
            "text/plain": [
              "<Figure size 432x288 with 1 Axes>"
            ]
          },
          "metadata": {
            "tags": [],
            "needs_background": "light"
          }
        }
      ]
    },
    {
      "cell_type": "code",
      "metadata": {
        "colab": {
          "base_uri": "https://localhost:8080/",
          "height": 281
        },
        "id": "U2iNU9No7oTu",
        "outputId": "bfee0369-0038-46b9-9767-0def561f2a5f"
      },
      "source": [
        "model.fit(X_comp,y)\n",
        "predict = model.predict(X_comp)\n",
        "plt.scatter(X_comp,y)\n",
        "plt.scatter(X_comp,predict,color='r')"
      ],
      "execution_count": null,
      "outputs": [
        {
          "output_type": "execute_result",
          "data": {
            "text/plain": [
              "<matplotlib.collections.PathCollection at 0x7fc22c49f950>"
            ]
          },
          "metadata": {
            "tags": []
          },
          "execution_count": 41
        },
        {
          "output_type": "display_data",
          "data": {
            "image/png": "[encoded data removed]",
            "text/plain": [
              "<Figure size 432x288 with 1 Axes>"
            ]
          },
          "metadata": {
            "tags": [],
            "needs_background": "light"
          }
        }
      ]
    },
    {
      "cell_type": "code",
      "metadata": {
        "colab": {
          "base_uri": "https://localhost:8080/"
        },
        "id": "gl1eiIPM7oTu",
        "outputId": "c117272d-5055-434a-fa48-f1d90cb770b4"
      },
      "source": [
        "estimator = make_pipeline(StandardScaler(),SVR(kernel='rbf'))\n",
        "cross_validate(estimator=estimator,X=X,y=y,cv=5,n_jobs=multiprocessing.cpu_count(),verbose=True)"
      ],
      "execution_count": null,
      "outputs": [
        {
          "output_type": "stream",
          "text": [
            "[Parallel(n_jobs=2)]: Using backend LokyBackend with 2 concurrent workers.\n",
            "[Parallel(n_jobs=2)]: Done   5 out of   5 | elapsed:    0.1s finished\n"
          ],
          "name": "stderr"
        },
        {
          "output_type": "execute_result",
          "data": {
            "text/plain": [
              "{'fit_time': array([0.02499223, 0.02107263, 0.02026415, 0.01956248, 0.01575112]),\n",
              " 'score_time': array([0.0036335 , 0.00360966, 0.00353122, 0.00367832, 0.00229287]),\n",
              " 'test_score': array([ 0.75781445,  0.50211018,  0.04310107,  0.33851703, -0.75997942])}"
            ]
          },
          "metadata": {
            "tags": []
          },
          "execution_count": 42
        }
      ]
    },
    {
      "cell_type": "code",
      "metadata": {
        "colab": {
          "base_uri": "https://localhost:8080/"
        },
        "id": "9tdT8akC7oTu",
        "outputId": "8d5e9749-91d1-4f48-f2b2-96d6aedcabd3"
      },
      "source": [
        "pipe = Pipeline([('scaler',StandardScaler()),('model',SVR(kernel='rbf'))])\n",
        "\n",
        "param_grid = [{'model__kernel':['rbf','polynomial','sigmoid']}]\n",
        "\n",
        "gs = GridSearchCV(estimator=pipe, param_grid=param_grid, n_jobs=multiprocessing.cpu_count(), cv=5, verbose=True)\n",
        "\n",
        "gs.fit(X,y)"
      ],
      "execution_count": null,
      "outputs": [
        {
          "output_type": "stream",
          "text": [
            "Fitting 5 folds for each of 3 candidates, totalling 15 fits\n"
          ],
          "name": "stdout"
        },
        {
          "output_type": "stream",
          "text": [
            "[Parallel(n_jobs=2)]: Using backend LokyBackend with 2 concurrent workers.\n",
            "[Parallel(n_jobs=2)]: Done  15 out of  15 | elapsed:    0.2s finished\n"
          ],
          "name": "stderr"
        },
        {
          "output_type": "execute_result",
          "data": {
            "text/plain": [
              "GridSearchCV(cv=5, error_score=nan,\n",
              "             estimator=Pipeline(memory=None,\n",
              "                                steps=[('scaler',\n",
              "                                        StandardScaler(copy=True,\n",
              "                                                       with_mean=True,\n",
              "                                                       with_std=True)),\n",
              "                                       ('model',\n",
              "                                        SVR(C=1.0, cache_size=200, coef0=0.0,\n",
              "                                            degree=3, epsilon=0.1,\n",
              "                                            gamma='scale', kernel='rbf',\n",
              "                                            max_iter=-1, shrinking=True,\n",
              "                                            tol=0.001, verbose=False))],\n",
              "                                verbose=False),\n",
              "             iid='deprecated', n_jobs=2,\n",
              "             param_grid=[{'model__kernel': ['rbf', 'polynomial', 'sigmoid']}],\n",
              "             pre_dispatch='2*n_jobs', refit=True, return_train_score=False,\n",
              "             scoring=None, verbose=True)"
            ]
          },
          "metadata": {
            "tags": []
          },
          "execution_count": 45
        }
      ]
    },
    {
      "cell_type": "code",
      "metadata": {
        "colab": {
          "base_uri": "https://localhost:8080/"
        },
        "id": "LVRtoGU-7oTu",
        "outputId": "f8c350f6-2ed9-4ca2-f56b-08dfe4f52092"
      },
      "source": [
        "gs.best_estimator_"
      ],
      "execution_count": null,
      "outputs": [
        {
          "output_type": "execute_result",
          "data": {
            "text/plain": [
              "Pipeline(memory=None,\n",
              "         steps=[('scaler',\n",
              "                 StandardScaler(copy=True, with_mean=True, with_std=True)),\n",
              "                ('model',\n",
              "                 SVR(C=1.0, cache_size=200, coef0=0.0, degree=3, epsilon=0.1,\n",
              "                     gamma='scale', kernel='rbf', max_iter=-1, shrinking=True,\n",
              "                     tol=0.001, verbose=False))],\n",
              "         verbose=False)"
            ]
          },
          "metadata": {
            "tags": []
          },
          "execution_count": 46
        }
      ]
    },
    {
      "cell_type": "code",
      "metadata": {
        "colab": {
          "base_uri": "https://localhost:8080/"
        },
        "id": "dDyqQE4D83sG",
        "outputId": "743c47fb-6e2e-4ec8-f8d9-83fb01b36462"
      },
      "source": [
        "pipe = Pipeline([('scaler',StandardScaler()),('model',SVR(kernel='rbf'))])\n",
        "\n",
        "param_grid = [{'model__gamma':['scale','auto'],'model__C':[1.0, 0.1, 0.01],'model__epsilon':[1.0,0.1,0.01]}]\n",
        "\n",
        "gs = GridSearchCV(estimator=pipe, param_grid=param_grid, n_jobs=multiprocessing.cpu_count(), cv=5, verbose=True)\n",
        "\n",
        "gs.fit(X,y)"
      ],
      "execution_count": null,
      "outputs": [
        {
          "output_type": "stream",
          "text": [
            "Fitting 5 folds for each of 18 candidates, totalling 90 fits\n"
          ],
          "name": "stdout"
        },
        {
          "output_type": "stream",
          "text": [
            "[Parallel(n_jobs=2)]: Using backend LokyBackend with 2 concurrent workers.\n",
            "[Parallel(n_jobs=2)]: Done  90 out of  90 | elapsed:    1.1s finished\n"
          ],
          "name": "stderr"
        },
        {
          "output_type": "execute_result",
          "data": {
            "text/plain": [
              "GridSearchCV(cv=5, error_score=nan,\n",
              "             estimator=Pipeline(memory=None,\n",
              "                                steps=[('scaler',\n",
              "                                        StandardScaler(copy=True,\n",
              "                                                       with_mean=True,\n",
              "                                                       with_std=True)),\n",
              "                                       ('model',\n",
              "                                        SVR(C=1.0, cache_size=200, coef0=0.0,\n",
              "                                            degree=3, epsilon=0.1,\n",
              "                                            gamma='scale', kernel='rbf',\n",
              "                                            max_iter=-1, shrinking=True,\n",
              "                                            tol=0.001, verbose=False))],\n",
              "                                verbose=False),\n",
              "             iid='deprecated', n_jobs=2,\n",
              "             param_grid=[{'model__C': [1.0, 0.1, 0.01],\n",
              "                          'model__epsilon': [1.0, 0.1, 0.01],\n",
              "                          'model__gamma': ['scale', 'auto']}],\n",
              "             pre_dispatch='2*n_jobs', refit=True, return_train_score=False,\n",
              "             scoring=None, verbose=True)"
            ]
          },
          "metadata": {
            "tags": []
          },
          "execution_count": 48
        }
      ]
    },
    {
      "cell_type": "code",
      "metadata": {
        "colab": {
          "base_uri": "https://localhost:8080/"
        },
        "id": "xb86ukH39bnG",
        "outputId": "b0cbf0c3-4d3f-4da1-fe39-68fcaf2358e6"
      },
      "source": [
        "gs.best_estimator_"
      ],
      "execution_count": null,
      "outputs": [
        {
          "output_type": "execute_result",
          "data": {
            "text/plain": [
              "Pipeline(memory=None,\n",
              "         steps=[('scaler',\n",
              "                 StandardScaler(copy=True, with_mean=True, with_std=True)),\n",
              "                ('model',\n",
              "                 SVR(C=1.0, cache_size=200, coef0=0.0, degree=3, epsilon=0.01,\n",
              "                     gamma='scale', kernel='rbf', max_iter=-1, shrinking=True,\n",
              "                     tol=0.001, verbose=False))],\n",
              "         verbose=False)"
            ]
          },
          "metadata": {
            "tags": []
          },
          "execution_count": 49
        }
      ]
    },
    {
      "cell_type": "markdown",
      "metadata": {
        "id": "WjmIL-u1r9qU"
      },
      "source": [
        "### 당뇨병"
      ]
    },
    {
      "cell_type": "code",
      "metadata": {
        "id": "o_AJjKMU9nCV"
      },
      "source": [
        "X,y = load_diabetes(return_X_y=True)\n",
        "X_train,X_test,y_train,y_test = train_test_split(X,y,test_size=0.2)"
      ],
      "execution_count": null,
      "outputs": []
    },
    {
      "cell_type": "code",
      "metadata": {
        "id": "6hj8IdoC9nCW"
      },
      "source": [
        "scaler = StandardScaler()\n",
        "scaler.fit(X_train)\n",
        "X_train = scaler.transform(X_train)\n",
        "X_test = scaler.transform(X_test)"
      ],
      "execution_count": null,
      "outputs": []
    },
    {
      "cell_type": "code",
      "metadata": {
        "colab": {
          "base_uri": "https://localhost:8080/"
        },
        "id": "3uqOLbH-9nCW",
        "outputId": "cb8bac00-f11d-4f56-9c9b-a4dc68f626ab"
      },
      "source": [
        "model = SVR(kernel='rbf')\n",
        "model.fit(X_train,y_train)"
      ],
      "execution_count": null,
      "outputs": [
        {
          "output_type": "execute_result",
          "data": {
            "text/plain": [
              "SVR(C=1.0, cache_size=200, coef0=0.0, degree=3, epsilon=0.1, gamma='scale',\n",
              "    kernel='rbf', max_iter=-1, shrinking=True, tol=0.001, verbose=False)"
            ]
          },
          "metadata": {
            "tags": []
          },
          "execution_count": 52
        }
      ]
    },
    {
      "cell_type": "code",
      "metadata": {
        "colab": {
          "base_uri": "https://localhost:8080/"
        },
        "id": "vEua1xSR9nCX",
        "outputId": "1e1ece42-ad79-4dc3-b53c-7ec2348a8747"
      },
      "source": [
        "print(\"학습데이터 점수: {}\".format(model.score(X_train,y_train)))\n",
        "print(\"평가데이터 점수: {}\".format(model.score(X_test,y_test)))"
      ],
      "execution_count": null,
      "outputs": [
        {
          "output_type": "stream",
          "text": [
            "학습데이터 점수: 0.1515787437587034\n",
            "평가데이터 점수: 0.19703522159476994\n"
          ],
          "name": "stdout"
        }
      ]
    },
    {
      "cell_type": "code",
      "metadata": {
        "colab": {
          "base_uri": "https://localhost:8080/",
          "height": 281
        },
        "id": "LKbNiBpv9nCX",
        "outputId": "2f13548c-1a35-47ac-e17b-3d2b809bcb43"
      },
      "source": [
        "X_comp = TSNE(n_components=1).fit_transform(X)\n",
        "plt.scatter(X_comp,y)"
      ],
      "execution_count": null,
      "outputs": [
        {
          "output_type": "execute_result",
          "data": {
            "text/plain": [
              "<matplotlib.collections.PathCollection at 0x7fc227bcf210>"
            ]
          },
          "metadata": {
            "tags": []
          },
          "execution_count": 54
        },
        {
          "output_type": "display_data",
          "data": {
            "image/png": "[encoded data removed]",
            "text/plain": [
              "<Figure size 432x288 with 1 Axes>"
            ]
          },
          "metadata": {
            "tags": [],
            "needs_background": "light"
          }
        }
      ]
    },
    {
      "cell_type": "code",
      "metadata": {
        "colab": {
          "base_uri": "https://localhost:8080/",
          "height": 281
        },
        "id": "JyoLbikp9nCX",
        "outputId": "2120df86-361e-4c5d-ee46-223e5de4354c"
      },
      "source": [
        "model.fit(X_comp,y)\n",
        "predict = model.predict(X_comp)\n",
        "plt.scatter(X_comp,y)\n",
        "plt.scatter(X_comp,predict,color='r')"
      ],
      "execution_count": null,
      "outputs": [
        {
          "output_type": "execute_result",
          "data": {
            "text/plain": [
              "<matplotlib.collections.PathCollection at 0x7fc227bbf750>"
            ]
          },
          "metadata": {
            "tags": []
          },
          "execution_count": 55
        },
        {
          "output_type": "display_data",
          "data": {
            "image/png": "[encoded data removed]",
            "text/plain": [
              "<Figure size 432x288 with 1 Axes>"
            ]
          },
          "metadata": {
            "tags": [],
            "needs_background": "light"
          }
        }
      ]
    },
    {
      "cell_type": "code",
      "metadata": {
        "colab": {
          "base_uri": "https://localhost:8080/"
        },
        "id": "yXdWzuZO9nCY",
        "outputId": "eced8f92-2555-433b-c172-79ac4e8f8e52"
      },
      "source": [
        "estimator = make_pipeline(StandardScaler(),SVR(kernel='rbf'))\n",
        "cross_validate(estimator=estimator,X=X,y=y,cv=5,n_jobs=multiprocessing.cpu_count(),verbose=True)"
      ],
      "execution_count": null,
      "outputs": [
        {
          "output_type": "stream",
          "text": [
            "[Parallel(n_jobs=2)]: Using backend LokyBackend with 2 concurrent workers.\n",
            "[Parallel(n_jobs=2)]: Done   5 out of   5 | elapsed:    0.1s finished\n"
          ],
          "name": "stderr"
        },
        {
          "output_type": "execute_result",
          "data": {
            "text/plain": [
              "{'fit_time': array([0.02125835, 0.01715279, 0.01413965, 0.01394081, 0.01041245]),\n",
              " 'score_time': array([0.00325632, 0.00342107, 0.00287533, 0.00312614, 0.00182319]),\n",
              " 'test_score': array([0.14580789, 0.12539919, 0.18163816, 0.12223073, 0.15792085])}"
            ]
          },
          "metadata": {
            "tags": []
          },
          "execution_count": 56
        }
      ]
    },
    {
      "cell_type": "code",
      "metadata": {
        "colab": {
          "base_uri": "https://localhost:8080/"
        },
        "id": "9xrVmjhQ9nCY",
        "outputId": "3277b5ec-be88-4a7d-8792-d7a971f08270"
      },
      "source": [
        "pipe = Pipeline([('scaler',StandardScaler()),('model',SVR(kernel='rbf'))])\n",
        "\n",
        "param_grid = [{'model__kernel':['rbf','polynomial','sigmoid']}]\n",
        "\n",
        "gs = GridSearchCV(estimator=pipe, param_grid=param_grid, n_jobs=multiprocessing.cpu_count(), cv=5, verbose=True)\n",
        "\n",
        "gs.fit(X,y)"
      ],
      "execution_count": null,
      "outputs": [
        {
          "output_type": "stream",
          "text": [
            "Fitting 5 folds for each of 3 candidates, totalling 15 fits\n"
          ],
          "name": "stdout"
        },
        {
          "output_type": "stream",
          "text": [
            "[Parallel(n_jobs=2)]: Using backend LokyBackend with 2 concurrent workers.\n",
            "[Parallel(n_jobs=2)]: Done  15 out of  15 | elapsed:    0.1s finished\n"
          ],
          "name": "stderr"
        },
        {
          "output_type": "execute_result",
          "data": {
            "text/plain": [
              "GridSearchCV(cv=5, error_score=nan,\n",
              "             estimator=Pipeline(memory=None,\n",
              "                                steps=[('scaler',\n",
              "                                        StandardScaler(copy=True,\n",
              "                                                       with_mean=True,\n",
              "                                                       with_std=True)),\n",
              "                                       ('model',\n",
              "                                        SVR(C=1.0, cache_size=200, coef0=0.0,\n",
              "                                            degree=3, epsilon=0.1,\n",
              "                                            gamma='scale', kernel='rbf',\n",
              "                                            max_iter=-1, shrinking=True,\n",
              "                                            tol=0.001, verbose=False))],\n",
              "                                verbose=False),\n",
              "             iid='deprecated', n_jobs=2,\n",
              "             param_grid=[{'model__kernel': ['rbf', 'polynomial', 'sigmoid']}],\n",
              "             pre_dispatch='2*n_jobs', refit=True, return_train_score=False,\n",
              "             scoring=None, verbose=True)"
            ]
          },
          "metadata": {
            "tags": []
          },
          "execution_count": 57
        }
      ]
    },
    {
      "cell_type": "code",
      "metadata": {
        "colab": {
          "base_uri": "https://localhost:8080/"
        },
        "id": "_s_o5WNq9nCY",
        "outputId": "d6008125-ac9d-40fa-e616-53927d8501f5"
      },
      "source": [
        "gs.best_estimator_"
      ],
      "execution_count": null,
      "outputs": [
        {
          "output_type": "execute_result",
          "data": {
            "text/plain": [
              "Pipeline(memory=None,\n",
              "         steps=[('scaler',\n",
              "                 StandardScaler(copy=True, with_mean=True, with_std=True)),\n",
              "                ('model',\n",
              "                 SVR(C=1.0, cache_size=200, coef0=0.0, degree=3, epsilon=0.1,\n",
              "                     gamma='scale', kernel='sigmoid', max_iter=-1,\n",
              "                     shrinking=True, tol=0.001, verbose=False))],\n",
              "         verbose=False)"
            ]
          },
          "metadata": {
            "tags": []
          },
          "execution_count": 58
        }
      ]
    },
    {
      "cell_type": "code",
      "metadata": {
        "colab": {
          "base_uri": "https://localhost:8080/"
        },
        "id": "8UP-OJvb9nCZ",
        "outputId": "f9aadf08-acbd-428f-b722-e7336a78b4a3"
      },
      "source": [
        "pipe = Pipeline([('scaler',StandardScaler()),('model',SVR(kernel='sigmoid'))])\n",
        "\n",
        "param_grid = [{'model__gamma':['scale','auto'],'model__C':[1.0, 0.1, 0.01],'model__epsilon':[1.0,0.1,0.01]}]\n",
        "\n",
        "gs = GridSearchCV(estimator=pipe, param_grid=param_grid, n_jobs=multiprocessing.cpu_count(), cv=5, verbose=True)\n",
        "\n",
        "gs.fit(X,y)"
      ],
      "execution_count": null,
      "outputs": [
        {
          "output_type": "stream",
          "text": [
            "Fitting 5 folds for each of 18 candidates, totalling 90 fits\n"
          ],
          "name": "stdout"
        },
        {
          "output_type": "stream",
          "text": [
            "[Parallel(n_jobs=2)]: Using backend LokyBackend with 2 concurrent workers.\n",
            "[Parallel(n_jobs=2)]: Done  90 out of  90 | elapsed:    1.1s finished\n"
          ],
          "name": "stderr"
        },
        {
          "output_type": "execute_result",
          "data": {
            "text/plain": [
              "GridSearchCV(cv=5, error_score=nan,\n",
              "             estimator=Pipeline(memory=None,\n",
              "                                steps=[('scaler',\n",
              "                                        StandardScaler(copy=True,\n",
              "                                                       with_mean=True,\n",
              "                                                       with_std=True)),\n",
              "                                       ('model',\n",
              "                                        SVR(C=1.0, cache_size=200, coef0=0.0,\n",
              "                                            degree=3, epsilon=0.1,\n",
              "                                            gamma='scale', kernel='sigmoid',\n",
              "                                            max_iter=-1, shrinking=True,\n",
              "                                            tol=0.001, verbose=False))],\n",
              "                                verbose=False),\n",
              "             iid='deprecated', n_jobs=2,\n",
              "             param_grid=[{'model__C': [1.0, 0.1, 0.01],\n",
              "                          'model__epsilon': [1.0, 0.1, 0.01],\n",
              "                          'model__gamma': ['scale', 'auto']}],\n",
              "             pre_dispatch='2*n_jobs', refit=True, return_train_score=False,\n",
              "             scoring=None, verbose=True)"
            ]
          },
          "metadata": {
            "tags": []
          },
          "execution_count": 59
        }
      ]
    },
    {
      "cell_type": "code",
      "metadata": {
        "colab": {
          "base_uri": "https://localhost:8080/"
        },
        "id": "CEOpZBPS9nCZ",
        "outputId": "bafe477e-074e-48fb-82f1-8af45a79ddeb"
      },
      "source": [
        "gs.best_estimator_"
      ],
      "execution_count": null,
      "outputs": [
        {
          "output_type": "execute_result",
          "data": {
            "text/plain": [
              "Pipeline(memory=None,\n",
              "         steps=[('scaler',\n",
              "                 StandardScaler(copy=True, with_mean=True, with_std=True)),\n",
              "                ('model',\n",
              "                 SVR(C=1.0, cache_size=200, coef0=0.0, degree=3, epsilon=1.0,\n",
              "                     gamma='auto', kernel='sigmoid', max_iter=-1,\n",
              "                     shrinking=True, tol=0.001, verbose=False))],\n",
              "         verbose=False)"
            ]
          },
          "metadata": {
            "tags": []
          },
          "execution_count": 60
        }
      ]
    },
    {
      "cell_type": "code",
      "metadata": {
        "id": "O0Zg0sorLqnI",
        "colab": {
          "base_uri": "https://localhost:8080/"
        },
        "outputId": "52aa90ae-2775-4d16-f485-c2fdfe842718"
      },
      "source": [
        "model = gs.best_estimator_\n",
        "model.fit(X_train,y_train)\n"
      ],
      "execution_count": null,
      "outputs": [
        {
          "output_type": "execute_result",
          "data": {
            "text/plain": [
              "Pipeline(memory=None,\n",
              "         steps=[('scaler',\n",
              "                 StandardScaler(copy=True, with_mean=True, with_std=True)),\n",
              "                ('model',\n",
              "                 SVR(C=1.0, cache_size=200, coef0=0.0, degree=3, epsilon=1.0,\n",
              "                     gamma='auto', kernel='sigmoid', max_iter=-1,\n",
              "                     shrinking=True, tol=0.001, verbose=False))],\n",
              "         verbose=False)"
            ]
          },
          "metadata": {
            "tags": []
          },
          "execution_count": 63
        }
      ]
    },
    {
      "cell_type": "code",
      "metadata": {
        "colab": {
          "base_uri": "https://localhost:8080/"
        },
        "id": "-LHnPYMI-qKq",
        "outputId": "c1486897-1597-4ee7-8bee-1510f057318c"
      },
      "source": [
        "print(\"학습데이터 점수: {}\".format(model.score(X_train,y_train)))\n",
        "print(\"평가데이터 점수: {}\".format(model.score(X_test,y_test)))"
      ],
      "execution_count": null,
      "outputs": [
        {
          "output_type": "stream",
          "text": [
            "학습데이터 점수: 0.3477895427936659\n",
            "평가데이터 점수: 0.43998820987884657\n"
          ],
          "name": "stdout"
        }
      ]
    },
    {
      "cell_type": "markdown",
      "metadata": {
        "id": "iW0DXTLrNya-"
      },
      "source": [
        "## Linear SVC"
      ]
    },
    {
      "cell_type": "markdown",
      "metadata": {
        "id": "1b30IAFxN8XR"
      },
      "source": [
        "### 유방암"
      ]
    },
    {
      "cell_type": "code",
      "metadata": {
        "id": "DOd-bxl2-37e"
      },
      "source": [
        "X,y = load_breast_cancer(return_X_y=True)\n",
        "X_train,X_test,y_train,y_test = train_test_split(X,y,test_size=0.2)"
      ],
      "execution_count": null,
      "outputs": []
    },
    {
      "cell_type": "code",
      "metadata": {
        "id": "40-kTYye-37f"
      },
      "source": [
        "scaler = StandardScaler()\n",
        "scaler.fit(X_train)\n",
        "X_train = scaler.transform(X_train)\n",
        "X_test = scaler.transform(X_test)"
      ],
      "execution_count": null,
      "outputs": []
    },
    {
      "cell_type": "code",
      "metadata": {
        "colab": {
          "base_uri": "https://localhost:8080/"
        },
        "id": "N_UadUmF-37f",
        "outputId": "40a580c5-28ab-4389-c479-2cd8c3e36bad"
      },
      "source": [
        "model = SVC(kernel='linear')\n",
        "model.fit(X_train,y_train)"
      ],
      "execution_count": null,
      "outputs": [
        {
          "output_type": "execute_result",
          "data": {
            "text/plain": [
              "SVC(C=1.0, break_ties=False, cache_size=200, class_weight=None, coef0=0.0,\n",
              "    decision_function_shape='ovr', degree=3, gamma='scale', kernel='linear',\n",
              "    max_iter=-1, probability=False, random_state=None, shrinking=True,\n",
              "    tol=0.001, verbose=False)"
            ]
          },
          "metadata": {
            "tags": []
          },
          "execution_count": 80
        }
      ]
    },
    {
      "cell_type": "code",
      "metadata": {
        "colab": {
          "base_uri": "https://localhost:8080/"
        },
        "id": "x2G_jLAI-37g",
        "outputId": "014d7e16-9772-4185-a870-500f45916ad9"
      },
      "source": [
        "print(\"학습데이터 점수: {}\".format(model.score(X_train,y_train)))\n",
        "print(\"평가데이터 점수: {}\".format(model.score(X_test,y_test)))"
      ],
      "execution_count": null,
      "outputs": [
        {
          "output_type": "stream",
          "text": [
            "학습데이터 점수: 0.9912087912087912\n",
            "평가데이터 점수: 0.9736842105263158\n"
          ],
          "name": "stdout"
        }
      ]
    },
    {
      "cell_type": "code",
      "metadata": {
        "id": "2MKNvg9J_U_B"
      },
      "source": [
        "def make_meshgrid(x,y,h=0.2):\n",
        "  x_min, x_max = x.min()-1, x.max()+1\n",
        "  y_min, y_max = y.min()-1, y.max()+1\n",
        "  xx,yy = np.meshgrid(np.arange(x_min,x_max,h)),np.arange(y_min,y_max,h)\n",
        "\n",
        "  return xx,yy"
      ],
      "execution_count": null,
      "outputs": []
    },
    {
      "cell_type": "code",
      "metadata": {
        "id": "fRAs6M4d_4RN"
      },
      "source": [
        "def plot_contours(clf,xx,yy,**params):\n",
        "  Z = clf.predict(np.c_[xx.ravel(),yy.ravel()])\n",
        "  Z = Z.reshape(xx.shape)\n",
        "  out = plt.contourf(xx,yy,Z,**params)\n",
        "\n",
        "  return out"
      ],
      "execution_count": null,
      "outputs": []
    },
    {
      "cell_type": "code",
      "metadata": {
        "id": "umVUx8II-37g"
      },
      "source": [
        "X_comp = TSNE(n_components=2).fit_transform(X)\n",
        "X0, X1 = X_comp[:,0],X_comp[:,1]\n",
        "xx,yy = make_meshgrid(X0,X1)"
      ],
      "execution_count": null,
      "outputs": []
    },
    {
      "cell_type": "code",
      "metadata": {
        "id": "Ft13Y4BhEoLS"
      },
      "source": [
        ""
      ],
      "execution_count": null,
      "outputs": []
    },
    {
      "cell_type": "code",
      "metadata": {
        "colab": {
          "base_uri": "https://localhost:8080/",
          "height": 344
        },
        "id": "X1s6HGTw-37g",
        "outputId": "7aecf683-4444-4bfb-dc39-74654623916f"
      },
      "source": [
        "model.fit(X_comp,y)\n",
        "plot_contours(model,xx,yy,cmap=plt.cm.coolwarm,alpha = 0.7)\n",
        "plt.scatter(X0,X1,c=y,cmap=plt.cm.coolwarm,s=20,edgecolors='k')"
      ],
      "execution_count": null,
      "outputs": [
        {
          "output_type": "error",
          "ename": "AttributeError",
          "evalue": "ignored",
          "traceback": [
            "\u001b[0;31m---------------------------------------------------------------------------\u001b[0m",
            "\u001b[0;31mAttributeError\u001b[0m                            Traceback (most recent call last)",
            "\u001b[0;32m<ipython-input-85-4a2e67ba8bd7>\u001b[0m in \u001b[0;36m<module>\u001b[0;34m()\u001b[0m\n\u001b[1;32m      1\u001b[0m \u001b[0mmodel\u001b[0m\u001b[0;34m.\u001b[0m\u001b[0mfit\u001b[0m\u001b[0;34m(\u001b[0m\u001b[0mX_comp\u001b[0m\u001b[0;34m,\u001b[0m\u001b[0my\u001b[0m\u001b[0;34m)\u001b[0m\u001b[0;34m\u001b[0m\u001b[0;34m\u001b[0m\u001b[0m\n\u001b[0;32m----> 2\u001b[0;31m \u001b[0mplot_contours\u001b[0m\u001b[0;34m(\u001b[0m\u001b[0mmodel\u001b[0m\u001b[0;34m,\u001b[0m\u001b[0mxx\u001b[0m\u001b[0;34m,\u001b[0m\u001b[0myy\u001b[0m\u001b[0;34m,\u001b[0m\u001b[0mcmap\u001b[0m\u001b[0;34m=\u001b[0m\u001b[0mplt\u001b[0m\u001b[0;34m.\u001b[0m\u001b[0mcm\u001b[0m\u001b[0;34m.\u001b[0m\u001b[0mcoolwarm\u001b[0m\u001b[0;34m,\u001b[0m\u001b[0malpha\u001b[0m \u001b[0;34m=\u001b[0m \u001b[0;36m0.7\u001b[0m\u001b[0;34m)\u001b[0m\u001b[0;34m\u001b[0m\u001b[0;34m\u001b[0m\u001b[0m\n\u001b[0m\u001b[1;32m      3\u001b[0m \u001b[0mplt\u001b[0m\u001b[0;34m.\u001b[0m\u001b[0mscatter\u001b[0m\u001b[0;34m(\u001b[0m\u001b[0mX0\u001b[0m\u001b[0;34m,\u001b[0m\u001b[0mX1\u001b[0m\u001b[0;34m,\u001b[0m\u001b[0mc\u001b[0m\u001b[0;34m=\u001b[0m\u001b[0my\u001b[0m\u001b[0;34m,\u001b[0m\u001b[0mcmap\u001b[0m\u001b[0;34m=\u001b[0m\u001b[0mplt\u001b[0m\u001b[0;34m.\u001b[0m\u001b[0mcm\u001b[0m\u001b[0;34m.\u001b[0m\u001b[0mcoolwarm\u001b[0m\u001b[0;34m,\u001b[0m\u001b[0ms\u001b[0m\u001b[0;34m=\u001b[0m\u001b[0;36m20\u001b[0m\u001b[0;34m,\u001b[0m\u001b[0medgecolors\u001b[0m\u001b[0;34m=\u001b[0m\u001b[0;34m'k'\u001b[0m\u001b[0;34m)\u001b[0m\u001b[0;34m\u001b[0m\u001b[0;34m\u001b[0m\u001b[0m\n",
            "\u001b[0;32m<ipython-input-83-4b7f78e813b7>\u001b[0m in \u001b[0;36mplot_contours\u001b[0;34m(clf, xx, yy, **params)\u001b[0m\n\u001b[1;32m      1\u001b[0m \u001b[0;32mdef\u001b[0m \u001b[0mplot_contours\u001b[0m\u001b[0;34m(\u001b[0m\u001b[0mclf\u001b[0m\u001b[0;34m,\u001b[0m\u001b[0mxx\u001b[0m\u001b[0;34m,\u001b[0m\u001b[0myy\u001b[0m\u001b[0;34m,\u001b[0m\u001b[0;34m**\u001b[0m\u001b[0mparams\u001b[0m\u001b[0;34m)\u001b[0m\u001b[0;34m:\u001b[0m\u001b[0;34m\u001b[0m\u001b[0;34m\u001b[0m\u001b[0m\n\u001b[0;32m----> 2\u001b[0;31m   \u001b[0mZ\u001b[0m \u001b[0;34m=\u001b[0m \u001b[0mclf\u001b[0m\u001b[0;34m.\u001b[0m\u001b[0mpredict\u001b[0m\u001b[0;34m(\u001b[0m\u001b[0mnp\u001b[0m\u001b[0;34m.\u001b[0m\u001b[0mc_\u001b[0m\u001b[0;34m[\u001b[0m\u001b[0mxx\u001b[0m\u001b[0;34m.\u001b[0m\u001b[0mravel\u001b[0m\u001b[0;34m(\u001b[0m\u001b[0;34m)\u001b[0m\u001b[0;34m,\u001b[0m\u001b[0myy\u001b[0m\u001b[0;34m.\u001b[0m\u001b[0mravel\u001b[0m\u001b[0;34m(\u001b[0m\u001b[0;34m)\u001b[0m\u001b[0;34m]\u001b[0m\u001b[0;34m)\u001b[0m\u001b[0;34m\u001b[0m\u001b[0;34m\u001b[0m\u001b[0m\n\u001b[0m\u001b[1;32m      3\u001b[0m   \u001b[0mZ\u001b[0m \u001b[0;34m=\u001b[0m \u001b[0mZ\u001b[0m\u001b[0;34m.\u001b[0m\u001b[0mreshape\u001b[0m\u001b[0;34m(\u001b[0m\u001b[0mxx\u001b[0m\u001b[0;34m.\u001b[0m\u001b[0mshape\u001b[0m\u001b[0;34m)\u001b[0m\u001b[0;34m\u001b[0m\u001b[0;34m\u001b[0m\u001b[0m\n\u001b[1;32m      4\u001b[0m   \u001b[0mout\u001b[0m \u001b[0;34m=\u001b[0m \u001b[0mplt\u001b[0m\u001b[0;34m.\u001b[0m\u001b[0mcontourf\u001b[0m\u001b[0;34m(\u001b[0m\u001b[0mxx\u001b[0m\u001b[0;34m,\u001b[0m\u001b[0myy\u001b[0m\u001b[0;34m,\u001b[0m\u001b[0mZ\u001b[0m\u001b[0;34m,\u001b[0m\u001b[0;34m**\u001b[0m\u001b[0mparams\u001b[0m\u001b[0;34m)\u001b[0m\u001b[0;34m\u001b[0m\u001b[0;34m\u001b[0m\u001b[0m\n\u001b[1;32m      5\u001b[0m \u001b[0;34m\u001b[0m\u001b[0m\n",
            "\u001b[0;31mAttributeError\u001b[0m: 'list' object has no attribute 'ravel'"
          ]
        }
      ]
    },
    {
      "cell_type": "code",
      "metadata": {
        "colab": {
          "base_uri": "https://localhost:8080/"
        },
        "id": "gF1iTDf7-37g",
        "outputId": "eced8f92-2555-433b-c172-79ac4e8f8e52"
      },
      "source": [
        "estimator = make_pipeline(StandardScaler(),SVR(kernel='rbf'))\n",
        "cross_validate(estimator=estimator,X=X,y=y,cv=5,n_jobs=multiprocessing.cpu_count(),verbose=True)"
      ],
      "execution_count": null,
      "outputs": [
        {
          "output_type": "stream",
          "text": [
            "[Parallel(n_jobs=2)]: Using backend LokyBackend with 2 concurrent workers.\n",
            "[Parallel(n_jobs=2)]: Done   5 out of   5 | elapsed:    0.1s finished\n"
          ],
          "name": "stderr"
        },
        {
          "output_type": "execute_result",
          "data": {
            "text/plain": [
              "{'fit_time': array([0.02125835, 0.01715279, 0.01413965, 0.01394081, 0.01041245]),\n",
              " 'score_time': array([0.00325632, 0.00342107, 0.00287533, 0.00312614, 0.00182319]),\n",
              " 'test_score': array([0.14580789, 0.12539919, 0.18163816, 0.12223073, 0.15792085])}"
            ]
          },
          "metadata": {
            "tags": []
          },
          "execution_count": 56
        }
      ]
    },
    {
      "cell_type": "code",
      "metadata": {
        "colab": {
          "base_uri": "https://localhost:8080/"
        },
        "id": "DcCQSuvu-37h",
        "outputId": "3277b5ec-be88-4a7d-8792-d7a971f08270"
      },
      "source": [
        "pipe = Pipeline([('scaler',StandardScaler()),('model',SVR(kernel='rbf'))])\n",
        "\n",
        "param_grid = [{'model__kernel':['rbf','polynomial','sigmoid']}]\n",
        "\n",
        "gs = GridSearchCV(estimator=pipe, param_grid=param_grid, n_jobs=multiprocessing.cpu_count(), cv=5, verbose=True)\n",
        "\n",
        "gs.fit(X,y)"
      ],
      "execution_count": null,
      "outputs": [
        {
          "output_type": "stream",
          "text": [
            "Fitting 5 folds for each of 3 candidates, totalling 15 fits\n"
          ],
          "name": "stdout"
        },
        {
          "output_type": "stream",
          "text": [
            "[Parallel(n_jobs=2)]: Using backend LokyBackend with 2 concurrent workers.\n",
            "[Parallel(n_jobs=2)]: Done  15 out of  15 | elapsed:    0.1s finished\n"
          ],
          "name": "stderr"
        },
        {
          "output_type": "execute_result",
          "data": {
            "text/plain": [
              "GridSearchCV(cv=5, error_score=nan,\n",
              "             estimator=Pipeline(memory=None,\n",
              "                                steps=[('scaler',\n",
              "                                        StandardScaler(copy=True,\n",
              "                                                       with_mean=True,\n",
              "                                                       with_std=True)),\n",
              "                                       ('model',\n",
              "                                        SVR(C=1.0, cache_size=200, coef0=0.0,\n",
              "                                            degree=3, epsilon=0.1,\n",
              "                                            gamma='scale', kernel='rbf',\n",
              "                                            max_iter=-1, shrinking=True,\n",
              "                                            tol=0.001, verbose=False))],\n",
              "                                verbose=False),\n",
              "             iid='deprecated', n_jobs=2,\n",
              "             param_grid=[{'model__kernel': ['rbf', 'polynomial', 'sigmoid']}],\n",
              "             pre_dispatch='2*n_jobs', refit=True, return_train_score=False,\n",
              "             scoring=None, verbose=True)"
            ]
          },
          "metadata": {
            "tags": []
          },
          "execution_count": 57
        }
      ]
    },
    {
      "cell_type": "code",
      "metadata": {
        "colab": {
          "base_uri": "https://localhost:8080/"
        },
        "id": "RphER3j_-37h",
        "outputId": "d6008125-ac9d-40fa-e616-53927d8501f5"
      },
      "source": [
        "gs.best_estimator_"
      ],
      "execution_count": null,
      "outputs": [
        {
          "output_type": "execute_result",
          "data": {
            "text/plain": [
              "Pipeline(memory=None,\n",
              "         steps=[('scaler',\n",
              "                 StandardScaler(copy=True, with_mean=True, with_std=True)),\n",
              "                ('model',\n",
              "                 SVR(C=1.0, cache_size=200, coef0=0.0, degree=3, epsilon=0.1,\n",
              "                     gamma='scale', kernel='sigmoid', max_iter=-1,\n",
              "                     shrinking=True, tol=0.001, verbose=False))],\n",
              "         verbose=False)"
            ]
          },
          "metadata": {
            "tags": []
          },
          "execution_count": 58
        }
      ]
    },
    {
      "cell_type": "code",
      "metadata": {
        "colab": {
          "base_uri": "https://localhost:8080/"
        },
        "id": "pH1nqYpU-37h",
        "outputId": "f9aadf08-acbd-428f-b722-e7336a78b4a3"
      },
      "source": [
        "pipe = Pipeline([('scaler',StandardScaler()),('model',SVR(kernel='sigmoid'))])\n",
        "\n",
        "param_grid = [{'model__gamma':['scale','auto'],'model__C':[1.0, 0.1, 0.01],'model__epsilon':[1.0,0.1,0.01]}]\n",
        "\n",
        "gs = GridSearchCV(estimator=pipe, param_grid=param_grid, n_jobs=multiprocessing.cpu_count(), cv=5, verbose=True)\n",
        "\n",
        "gs.fit(X,y)"
      ],
      "execution_count": null,
      "outputs": [
        {
          "output_type": "stream",
          "text": [
            "Fitting 5 folds for each of 18 candidates, totalling 90 fits\n"
          ],
          "name": "stdout"
        },
        {
          "output_type": "stream",
          "text": [
            "[Parallel(n_jobs=2)]: Using backend LokyBackend with 2 concurrent workers.\n",
            "[Parallel(n_jobs=2)]: Done  90 out of  90 | elapsed:    1.1s finished\n"
          ],
          "name": "stderr"
        },
        {
          "output_type": "execute_result",
          "data": {
            "text/plain": [
              "GridSearchCV(cv=5, error_score=nan,\n",
              "             estimator=Pipeline(memory=None,\n",
              "                                steps=[('scaler',\n",
              "                                        StandardScaler(copy=True,\n",
              "                                                       with_mean=True,\n",
              "                                                       with_std=True)),\n",
              "                                       ('model',\n",
              "                                        SVR(C=1.0, cache_size=200, coef0=0.0,\n",
              "                                            degree=3, epsilon=0.1,\n",
              "                                            gamma='scale', kernel='sigmoid',\n",
              "                                            max_iter=-1, shrinking=True,\n",
              "                                            tol=0.001, verbose=False))],\n",
              "                                verbose=False),\n",
              "             iid='deprecated', n_jobs=2,\n",
              "             param_grid=[{'model__C': [1.0, 0.1, 0.01],\n",
              "                          'model__epsilon': [1.0, 0.1, 0.01],\n",
              "                          'model__gamma': ['scale', 'auto']}],\n",
              "             pre_dispatch='2*n_jobs', refit=True, return_train_score=False,\n",
              "             scoring=None, verbose=True)"
            ]
          },
          "metadata": {
            "tags": []
          },
          "execution_count": 59
        }
      ]
    },
    {
      "cell_type": "code",
      "metadata": {
        "colab": {
          "base_uri": "https://localhost:8080/"
        },
        "id": "RuPxVmvo-37h",
        "outputId": "bafe477e-074e-48fb-82f1-8af45a79ddeb"
      },
      "source": [
        "gs.best_estimator_"
      ],
      "execution_count": null,
      "outputs": [
        {
          "output_type": "execute_result",
          "data": {
            "text/plain": [
              "Pipeline(memory=None,\n",
              "         steps=[('scaler',\n",
              "                 StandardScaler(copy=True, with_mean=True, with_std=True)),\n",
              "                ('model',\n",
              "                 SVR(C=1.0, cache_size=200, coef0=0.0, degree=3, epsilon=1.0,\n",
              "                     gamma='auto', kernel='sigmoid', max_iter=-1,\n",
              "                     shrinking=True, tol=0.001, verbose=False))],\n",
              "         verbose=False)"
            ]
          },
          "metadata": {
            "tags": []
          },
          "execution_count": 60
        }
      ]
    },
    {
      "cell_type": "code",
      "metadata": {
        "colab": {
          "base_uri": "https://localhost:8080/"
        },
        "id": "Fs7NIeZS-37h",
        "outputId": "52aa90ae-2775-4d16-f485-c2fdfe842718"
      },
      "source": [
        "model = gs.best_estimator_\n",
        "model.fit(X_train,y_train)\n"
      ],
      "execution_count": null,
      "outputs": [
        {
          "output_type": "execute_result",
          "data": {
            "text/plain": [
              "Pipeline(memory=None,\n",
              "         steps=[('scaler',\n",
              "                 StandardScaler(copy=True, with_mean=True, with_std=True)),\n",
              "                ('model',\n",
              "                 SVR(C=1.0, cache_size=200, coef0=0.0, degree=3, epsilon=1.0,\n",
              "                     gamma='auto', kernel='sigmoid', max_iter=-1,\n",
              "                     shrinking=True, tol=0.001, verbose=False))],\n",
              "         verbose=False)"
            ]
          },
          "metadata": {
            "tags": []
          },
          "execution_count": 63
        }
      ]
    },
    {
      "cell_type": "code",
      "metadata": {
        "colab": {
          "base_uri": "https://localhost:8080/"
        },
        "id": "OW3IIe_t-37h",
        "outputId": "c1486897-1597-4ee7-8bee-1510f057318c"
      },
      "source": [
        "print(\"학습데이터 점수: {}\".format(model.score(X_train,y_train)))\n",
        "print(\"평가데이터 점수: {}\".format(model.score(X_test,y_test)))"
      ],
      "execution_count": null,
      "outputs": [
        {
          "output_type": "stream",
          "text": [
            "학습데이터 점수: 0.3477895427936659\n",
            "평가데이터 점수: 0.43998820987884657\n"
          ],
          "name": "stdout"
        }
      ]
    },
    {
      "cell_type": "code",
      "metadata": {
        "id": "THwH-7nJZDtd"
      },
      "source": [
        ""
      ],
      "execution_count": null,
      "outputs": []
    },
    {
      "cell_type": "markdown",
      "metadata": {
        "id": "jJfcIODbN6ec"
      },
      "source": [
        "### 붓꽃"
      ]
    },
    {
      "cell_type": "code",
      "metadata": {
        "id": "HRlUQk2QOa-f"
      },
      "source": [
        ""
      ],
      "execution_count": null,
      "outputs": []
    },
    {
      "cell_type": "code",
      "metadata": {
        "id": "KQecTCr4Olrr"
      },
      "source": [
        ""
      ],
      "execution_count": null,
      "outputs": []
    },
    {
      "cell_type": "code",
      "metadata": {
        "id": "MsSU3aiJP9fn"
      },
      "source": [
        ""
      ],
      "execution_count": null,
      "outputs": []
    },
    {
      "cell_type": "code",
      "metadata": {
        "id": "qAGmOZj5Qkk4"
      },
      "source": [
        ""
      ],
      "execution_count": null,
      "outputs": []
    },
    {
      "cell_type": "code",
      "metadata": {
        "id": "l4kznJ4hmZmC"
      },
      "source": [
        ""
      ],
      "execution_count": null,
      "outputs": []
    },
    {
      "cell_type": "code",
      "metadata": {
        "id": "05s3vwmEmZmM"
      },
      "source": [
        ""
      ],
      "execution_count": null,
      "outputs": []
    },
    {
      "cell_type": "code",
      "metadata": {
        "id": "C-_JMQJ2mZmW"
      },
      "source": [
        ""
      ],
      "execution_count": null,
      "outputs": []
    },
    {
      "cell_type": "code",
      "metadata": {
        "id": "UOT_vRO_mZmp"
      },
      "source": [
        ""
      ],
      "execution_count": null,
      "outputs": []
    },
    {
      "cell_type": "code",
      "metadata": {
        "id": "mrQ4Akf5RI_v"
      },
      "source": [
        ""
      ],
      "execution_count": null,
      "outputs": []
    },
    {
      "cell_type": "code",
      "metadata": {
        "id": "qzZrx2a-RPFB"
      },
      "source": [
        ""
      ],
      "execution_count": null,
      "outputs": []
    },
    {
      "cell_type": "code",
      "metadata": {
        "id": "bWf0mPjXRm3p"
      },
      "source": [
        ""
      ],
      "execution_count": null,
      "outputs": []
    },
    {
      "cell_type": "code",
      "metadata": {
        "id": "FgfS7jrzRrIa"
      },
      "source": [
        ""
      ],
      "execution_count": null,
      "outputs": []
    },
    {
      "cell_type": "code",
      "metadata": {
        "id": "Rvnn5I7SSovQ"
      },
      "source": [
        ""
      ],
      "execution_count": null,
      "outputs": []
    },
    {
      "cell_type": "code",
      "metadata": {
        "id": "3RgoCn-XSsnz"
      },
      "source": [
        ""
      ],
      "execution_count": null,
      "outputs": []
    },
    {
      "cell_type": "markdown",
      "metadata": {
        "id": "fGErBCXR3P_p"
      },
      "source": [
        "### 와인"
      ]
    },
    {
      "cell_type": "code",
      "metadata": {
        "id": "HbDty6Se3Sbk"
      },
      "source": [
        ""
      ],
      "execution_count": null,
      "outputs": []
    },
    {
      "cell_type": "code",
      "metadata": {
        "id": "on761i8Z3Sbt"
      },
      "source": [
        ""
      ],
      "execution_count": null,
      "outputs": []
    },
    {
      "cell_type": "code",
      "metadata": {
        "id": "_F1cfInh3Sbz"
      },
      "source": [
        ""
      ],
      "execution_count": null,
      "outputs": []
    },
    {
      "cell_type": "code",
      "metadata": {
        "id": "E8MZX5yH3Sb5"
      },
      "source": [
        ""
      ],
      "execution_count": null,
      "outputs": []
    },
    {
      "cell_type": "code",
      "metadata": {
        "id": "B8aTIbQY3Sb_"
      },
      "source": [
        ""
      ],
      "execution_count": null,
      "outputs": []
    },
    {
      "cell_type": "code",
      "metadata": {
        "id": "_T_1d8Wr3ScD"
      },
      "source": [
        ""
      ],
      "execution_count": null,
      "outputs": []
    },
    {
      "cell_type": "code",
      "metadata": {
        "id": "PQhh8VrI3ScJ"
      },
      "source": [
        ""
      ],
      "execution_count": null,
      "outputs": []
    },
    {
      "cell_type": "code",
      "metadata": {
        "id": "oRUmb5pp3ScO"
      },
      "source": [
        ""
      ],
      "execution_count": null,
      "outputs": []
    },
    {
      "cell_type": "code",
      "metadata": {
        "id": "6ZuA2v6N3ScT"
      },
      "source": [
        ""
      ],
      "execution_count": null,
      "outputs": []
    },
    {
      "cell_type": "code",
      "metadata": {
        "id": "xZ_WJD9k3ScX"
      },
      "source": [
        ""
      ],
      "execution_count": null,
      "outputs": []
    },
    {
      "cell_type": "code",
      "metadata": {
        "id": "ibajspi_3Scc"
      },
      "source": [
        ""
      ],
      "execution_count": null,
      "outputs": []
    },
    {
      "cell_type": "code",
      "metadata": {
        "id": "zuVdSsFI3Scg"
      },
      "source": [
        ""
      ],
      "execution_count": null,
      "outputs": []
    },
    {
      "cell_type": "markdown",
      "metadata": {
        "id": "NKavNYlxN1fB"
      },
      "source": [
        "## Kernel SVC"
      ]
    },
    {
      "cell_type": "markdown",
      "metadata": {
        "id": "M7QkeGrdOAxV"
      },
      "source": [
        "### 유방암"
      ]
    },
    {
      "cell_type": "code",
      "metadata": {
        "id": "LtHeKTDjhF24"
      },
      "source": [
        ""
      ],
      "execution_count": null,
      "outputs": []
    },
    {
      "cell_type": "code",
      "metadata": {
        "id": "UmSGCO2nhIsv"
      },
      "source": [
        ""
      ],
      "execution_count": null,
      "outputs": []
    },
    {
      "cell_type": "code",
      "metadata": {
        "id": "Js0bF-5dhMFu"
      },
      "source": [
        ""
      ],
      "execution_count": null,
      "outputs": []
    },
    {
      "cell_type": "code",
      "metadata": {
        "id": "tqM1jJtQhPTD"
      },
      "source": [
        ""
      ],
      "execution_count": null,
      "outputs": []
    },
    {
      "cell_type": "code",
      "metadata": {
        "id": "pnbf0GgMm0Bl"
      },
      "source": [
        ""
      ],
      "execution_count": null,
      "outputs": []
    },
    {
      "cell_type": "code",
      "metadata": {
        "id": "h-5OjkXRm0Br"
      },
      "source": [
        ""
      ],
      "execution_count": null,
      "outputs": []
    },
    {
      "cell_type": "code",
      "metadata": {
        "id": "Lz5Bw7wIhS6q"
      },
      "source": [
        ""
      ],
      "execution_count": null,
      "outputs": []
    },
    {
      "cell_type": "code",
      "metadata": {
        "id": "Hg9cHUlnhXfG"
      },
      "source": [
        ""
      ],
      "execution_count": null,
      "outputs": []
    },
    {
      "cell_type": "code",
      "metadata": {
        "id": "lBRJHuzThp9Y"
      },
      "source": [
        ""
      ],
      "execution_count": null,
      "outputs": []
    },
    {
      "cell_type": "code",
      "metadata": {
        "id": "VorKONXah5JG"
      },
      "source": [
        ""
      ],
      "execution_count": null,
      "outputs": []
    },
    {
      "cell_type": "code",
      "metadata": {
        "id": "xqwLlKzSh9Un"
      },
      "source": [
        ""
      ],
      "execution_count": null,
      "outputs": []
    },
    {
      "cell_type": "code",
      "metadata": {
        "id": "d0Otann9iEOk"
      },
      "source": [
        ""
      ],
      "execution_count": null,
      "outputs": []
    },
    {
      "cell_type": "code",
      "metadata": {
        "id": "zc_xkMfHiI-N"
      },
      "source": [
        ""
      ],
      "execution_count": null,
      "outputs": []
    },
    {
      "cell_type": "code",
      "metadata": {
        "id": "aAfAHqUCiMT0"
      },
      "source": [
        ""
      ],
      "execution_count": null,
      "outputs": []
    },
    {
      "cell_type": "code",
      "metadata": {
        "id": "g8SPx4sLiU52"
      },
      "source": [
        ""
      ],
      "execution_count": null,
      "outputs": []
    },
    {
      "cell_type": "code",
      "metadata": {
        "id": "bWzV2Hg5iZyA"
      },
      "source": [
        ""
      ],
      "execution_count": null,
      "outputs": []
    },
    {
      "cell_type": "markdown",
      "metadata": {
        "id": "8488abTBN-GA"
      },
      "source": [
        "### 붓꽃"
      ]
    },
    {
      "cell_type": "code",
      "metadata": {
        "id": "fg3w1a2Ce9s1"
      },
      "source": [
        ""
      ],
      "execution_count": null,
      "outputs": []
    },
    {
      "cell_type": "code",
      "metadata": {
        "id": "-uJ83cBufbZe"
      },
      "source": [
        ""
      ],
      "execution_count": null,
      "outputs": []
    },
    {
      "cell_type": "code",
      "metadata": {
        "id": "mFb4DqDIffC8"
      },
      "source": [
        ""
      ],
      "execution_count": null,
      "outputs": []
    },
    {
      "cell_type": "code",
      "metadata": {
        "id": "Pfd3oSsgfwiC"
      },
      "source": [
        ""
      ],
      "execution_count": null,
      "outputs": []
    },
    {
      "cell_type": "code",
      "metadata": {
        "id": "fRB1BoL9mwIM"
      },
      "source": [
        ""
      ],
      "execution_count": null,
      "outputs": []
    },
    {
      "cell_type": "code",
      "metadata": {
        "id": "PtqfjprKmwIV"
      },
      "source": [
        ""
      ],
      "execution_count": null,
      "outputs": []
    },
    {
      "cell_type": "code",
      "metadata": {
        "id": "Bdvv3dd7f0Pz"
      },
      "source": [
        ""
      ],
      "execution_count": null,
      "outputs": []
    },
    {
      "cell_type": "code",
      "metadata": {
        "id": "Jcnn2tQafz3T"
      },
      "source": [
        ""
      ],
      "execution_count": null,
      "outputs": []
    },
    {
      "cell_type": "code",
      "metadata": {
        "id": "C_lEM81BgIXJ"
      },
      "source": [
        ""
      ],
      "execution_count": null,
      "outputs": []
    },
    {
      "cell_type": "code",
      "metadata": {
        "id": "VI6PeNGTgJKt"
      },
      "source": [
        ""
      ],
      "execution_count": null,
      "outputs": []
    },
    {
      "cell_type": "code",
      "metadata": {
        "id": "6UddLcxVgP_W"
      },
      "source": [
        ""
      ],
      "execution_count": null,
      "outputs": []
    },
    {
      "cell_type": "code",
      "metadata": {
        "id": "xMn78snqgSYl"
      },
      "source": [
        ""
      ],
      "execution_count": null,
      "outputs": []
    },
    {
      "cell_type": "code",
      "metadata": {
        "id": "74TPmmARf8Zz"
      },
      "source": [
        ""
      ],
      "execution_count": null,
      "outputs": []
    },
    {
      "cell_type": "code",
      "metadata": {
        "id": "cT4UBZgmf8Gm"
      },
      "source": [
        ""
      ],
      "execution_count": null,
      "outputs": []
    },
    {
      "cell_type": "code",
      "metadata": {
        "id": "qdjv70fpf7z9"
      },
      "source": [
        ""
      ],
      "execution_count": null,
      "outputs": []
    },
    {
      "cell_type": "code",
      "metadata": {
        "id": "FqC2JZXbf7aF"
      },
      "source": [
        ""
      ],
      "execution_count": null,
      "outputs": []
    },
    {
      "cell_type": "markdown",
      "metadata": {
        "id": "nidX5eMZ3ncE"
      },
      "source": [
        "### 와인"
      ]
    },
    {
      "cell_type": "code",
      "metadata": {
        "id": "JFi_47EI3ncH"
      },
      "source": [
        ""
      ],
      "execution_count": null,
      "outputs": []
    },
    {
      "cell_type": "code",
      "metadata": {
        "id": "r0nXpsIy3ncP"
      },
      "source": [
        ""
      ],
      "execution_count": null,
      "outputs": []
    },
    {
      "cell_type": "code",
      "metadata": {
        "id": "_bP6E_fo3nca"
      },
      "source": [
        ""
      ],
      "execution_count": null,
      "outputs": []
    },
    {
      "cell_type": "code",
      "metadata": {
        "id": "31meFM0G3nch"
      },
      "source": [
        ""
      ],
      "execution_count": null,
      "outputs": []
    },
    {
      "cell_type": "code",
      "metadata": {
        "id": "Vf0pIWPp3ncn"
      },
      "source": [
        ""
      ],
      "execution_count": null,
      "outputs": []
    },
    {
      "cell_type": "code",
      "metadata": {
        "id": "aI0f1Gs_3ncv"
      },
      "source": [
        ""
      ],
      "execution_count": null,
      "outputs": []
    },
    {
      "cell_type": "code",
      "metadata": {
        "id": "Edm3bwbJ3nc1"
      },
      "source": [
        ""
      ],
      "execution_count": null,
      "outputs": []
    },
    {
      "cell_type": "code",
      "metadata": {
        "id": "hSirMLUZ3nc6"
      },
      "source": [
        ""
      ],
      "execution_count": null,
      "outputs": []
    },
    {
      "cell_type": "code",
      "metadata": {
        "id": "GKmP7vEG3nc_"
      },
      "source": [
        ""
      ],
      "execution_count": null,
      "outputs": []
    },
    {
      "cell_type": "code",
      "metadata": {
        "id": "UvcDratI3ndG"
      },
      "source": [
        ""
      ],
      "execution_count": null,
      "outputs": []
    },
    {
      "cell_type": "code",
      "metadata": {
        "id": "IYGDeYTM3ndK"
      },
      "source": [
        ""
      ],
      "execution_count": null,
      "outputs": []
    },
    {
      "cell_type": "code",
      "metadata": {
        "id": "lyQEmPG93ndP"
      },
      "source": [
        ""
      ],
      "execution_count": null,
      "outputs": []
    },
    {
      "cell_type": "code",
      "metadata": {
        "id": "8Gz5WltL3ndU"
      },
      "source": [
        ""
      ],
      "execution_count": null,
      "outputs": []
    },
    {
      "cell_type": "code",
      "metadata": {
        "id": "JYx0sPLh3ndZ"
      },
      "source": [
        ""
      ],
      "execution_count": null,
      "outputs": []
    },
    {
      "cell_type": "code",
      "metadata": {
        "id": "zZw_Fq-q3ndd"
      },
      "source": [
        ""
      ],
      "execution_count": null,
      "outputs": []
    },
    {
      "cell_type": "code",
      "metadata": {
        "id": "EZ-rVe_o3ndi"
      },
      "source": [
        ""
      ],
      "execution_count": null,
      "outputs": []
    }
  ]
}
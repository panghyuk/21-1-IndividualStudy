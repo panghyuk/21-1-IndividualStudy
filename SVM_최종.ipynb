{
  "nbformat": 4,
  "nbformat_minor": 0,
  "metadata": {
    "colab": {
      "name": "SVM_편집데이터_0427.ipynb",
      "provenance": [],
      "collapsed_sections": []
    },
    "kernelspec": {
      "display_name": "Python 3",
      "language": "python",
      "name": "python3"
    },
    "language_info": {
      "codemirror_mode": {
        "name": "ipython",
        "version": 3
      },
      "file_extension": ".py",
      "mimetype": "text/x-python",
      "name": "python",
      "nbconvert_exporter": "python",
      "pygments_lexer": "ipython3",
      "version": "3.8.5"
    }
  },
  "cells": [
    {
      "cell_type": "code",
      "metadata": {
        "colab": {
          "base_uri": "https://localhost:8080/"
        },
        "id": "aDbreokONEla",
        "outputId": "763488b9-e128-4495-e00d-57014fdecf6c"
      },
      "source": [
        "from google.colab import drive\n",
        "drive.mount('/content/drive')"
      ],
      "execution_count": 1,
      "outputs": [
        {
          "output_type": "stream",
          "text": [
            "Mounted at /content/drive\n"
          ],
          "name": "stdout"
        }
      ]
    },
    {
      "cell_type": "code",
      "metadata": {
        "id": "1zIjmtTlMZE_"
      },
      "source": [
        "import multiprocessing\n",
        "import pandas as pd\n",
        "import numpy as np\n",
        "import matplotlib.pyplot as plt\n",
        "plt.style.use(['seaborn-whitegrid'])\n",
        "\n",
        "from sklearn.svm import SVR,SVC\n",
        "from sklearn.pipeline import make_pipeline, Pipeline\n",
        "from sklearn.model_selection import train_test_split, cross_validate, GridSearchCV\n",
        "from sklearn.preprocessing import StandardScaler,MinMaxScaler\n",
        "from sklearn.manifold import TSNE"
      ],
      "execution_count": 2,
      "outputs": []
    },
    {
      "cell_type": "code",
      "metadata": {
        "colab": {
          "base_uri": "https://localhost:8080/",
          "height": 415
        },
        "id": "0x53zD6OMZFB",
        "outputId": "92587d1b-39f5-4c5f-e8d8-12fb4a47c3a1"
      },
      "source": [
        "df=pd.read_csv('/content/drive/MyDrive/Colab Notebooks/편집데이터.csv')\n",
        "df"
      ],
      "execution_count": 3,
      "outputs": [
        {
          "output_type": "execute_result",
          "data": {
            "text/html": [
              "<div>\n",
              "<style scoped>\n",
              "    .dataframe tbody tr th:only-of-type {\n",
              "        vertical-align: middle;\n",
              "    }\n",
              "\n",
              "    .dataframe tbody tr th {\n",
              "        vertical-align: top;\n",
              "    }\n",
              "\n",
              "    .dataframe thead th {\n",
              "        text-align: right;\n",
              "    }\n",
              "</style>\n",
              "<table border=\"1\" class=\"dataframe\">\n",
              "  <thead>\n",
              "    <tr style=\"text-align: right;\">\n",
              "      <th></th>\n",
              "      <th>년</th>\n",
              "      <th>월</th>\n",
              "      <th>일</th>\n",
              "      <th>Solar radiation</th>\n",
              "      <th>Tmax</th>\n",
              "      <th>Tmin</th>\n",
              "      <th>Precipiation</th>\n",
              "      <th>Humidity</th>\n",
              "      <th>Windspeed</th>\n",
              "      <th>단면or양면</th>\n",
              "      <th>차광율</th>\n",
              "      <th>발전량</th>\n",
              "      <th>모듈 단위 발전량</th>\n",
              "    </tr>\n",
              "  </thead>\n",
              "  <tbody>\n",
              "    <tr>\n",
              "      <th>0</th>\n",
              "      <td>2020</td>\n",
              "      <td>6</td>\n",
              "      <td>13</td>\n",
              "      <td>2.053739</td>\n",
              "      <td>29.12</td>\n",
              "      <td>22.20</td>\n",
              "      <td>50.2</td>\n",
              "      <td>85.562125</td>\n",
              "      <td>1.977031</td>\n",
              "      <td>1</td>\n",
              "      <td>0.32</td>\n",
              "      <td>69.842929</td>\n",
              "      <td>0.997756</td>\n",
              "    </tr>\n",
              "    <tr>\n",
              "      <th>1</th>\n",
              "      <td>2020</td>\n",
              "      <td>6</td>\n",
              "      <td>14</td>\n",
              "      <td>1.405904</td>\n",
              "      <td>26.30</td>\n",
              "      <td>21.60</td>\n",
              "      <td>42.8</td>\n",
              "      <td>85.181196</td>\n",
              "      <td>1.616806</td>\n",
              "      <td>1</td>\n",
              "      <td>0.32</td>\n",
              "      <td>47.811548</td>\n",
              "      <td>0.683022</td>\n",
              "    </tr>\n",
              "    <tr>\n",
              "      <th>2</th>\n",
              "      <td>2020</td>\n",
              "      <td>6</td>\n",
              "      <td>15</td>\n",
              "      <td>6.178615</td>\n",
              "      <td>31.74</td>\n",
              "      <td>17.20</td>\n",
              "      <td>0.0</td>\n",
              "      <td>68.896728</td>\n",
              "      <td>1.627951</td>\n",
              "      <td>1</td>\n",
              "      <td>0.32</td>\n",
              "      <td>210.120487</td>\n",
              "      <td>3.001721</td>\n",
              "    </tr>\n",
              "    <tr>\n",
              "      <th>3</th>\n",
              "      <td>2020</td>\n",
              "      <td>6</td>\n",
              "      <td>16</td>\n",
              "      <td>5.746005</td>\n",
              "      <td>32.50</td>\n",
              "      <td>18.00</td>\n",
              "      <td>0.0</td>\n",
              "      <td>67.463369</td>\n",
              "      <td>1.835434</td>\n",
              "      <td>1</td>\n",
              "      <td>0.32</td>\n",
              "      <td>195.408398</td>\n",
              "      <td>2.791549</td>\n",
              "    </tr>\n",
              "    <tr>\n",
              "      <th>4</th>\n",
              "      <td>2020</td>\n",
              "      <td>6</td>\n",
              "      <td>17</td>\n",
              "      <td>3.136012</td>\n",
              "      <td>28.86</td>\n",
              "      <td>18.18</td>\n",
              "      <td>4.4</td>\n",
              "      <td>74.592449</td>\n",
              "      <td>1.514601</td>\n",
              "      <td>1</td>\n",
              "      <td>0.32</td>\n",
              "      <td>106.648534</td>\n",
              "      <td>1.523550</td>\n",
              "    </tr>\n",
              "    <tr>\n",
              "      <th>...</th>\n",
              "      <td>...</td>\n",
              "      <td>...</td>\n",
              "      <td>...</td>\n",
              "      <td>...</td>\n",
              "      <td>...</td>\n",
              "      <td>...</td>\n",
              "      <td>...</td>\n",
              "      <td>...</td>\n",
              "      <td>...</td>\n",
              "      <td>...</td>\n",
              "      <td>...</td>\n",
              "      <td>...</td>\n",
              "      <td>...</td>\n",
              "    </tr>\n",
              "    <tr>\n",
              "      <th>775</th>\n",
              "      <td>2020</td>\n",
              "      <td>10</td>\n",
              "      <td>16</td>\n",
              "      <td>1.414246</td>\n",
              "      <td>18.90</td>\n",
              "      <td>5.70</td>\n",
              "      <td>0.0</td>\n",
              "      <td>65.138326</td>\n",
              "      <td>1.280156</td>\n",
              "      <td>2</td>\n",
              "      <td>0.21</td>\n",
              "      <td>26.630512</td>\n",
              "      <td>0.760872</td>\n",
              "    </tr>\n",
              "    <tr>\n",
              "      <th>776</th>\n",
              "      <td>2020</td>\n",
              "      <td>10</td>\n",
              "      <td>17</td>\n",
              "      <td>3.522972</td>\n",
              "      <td>23.60</td>\n",
              "      <td>4.60</td>\n",
              "      <td>0.0</td>\n",
              "      <td>63.536590</td>\n",
              "      <td>1.847083</td>\n",
              "      <td>2</td>\n",
              "      <td>0.21</td>\n",
              "      <td>66.338222</td>\n",
              "      <td>1.895378</td>\n",
              "    </tr>\n",
              "    <tr>\n",
              "      <th>777</th>\n",
              "      <td>2020</td>\n",
              "      <td>10</td>\n",
              "      <td>18</td>\n",
              "      <td>3.433689</td>\n",
              "      <td>23.30</td>\n",
              "      <td>4.60</td>\n",
              "      <td>0.0</td>\n",
              "      <td>39.393374</td>\n",
              "      <td>1.515399</td>\n",
              "      <td>2</td>\n",
              "      <td>0.21</td>\n",
              "      <td>64.657013</td>\n",
              "      <td>1.847343</td>\n",
              "    </tr>\n",
              "    <tr>\n",
              "      <th>778</th>\n",
              "      <td>2020</td>\n",
              "      <td>10</td>\n",
              "      <td>19</td>\n",
              "      <td>3.206804</td>\n",
              "      <td>23.90</td>\n",
              "      <td>4.30</td>\n",
              "      <td>0.0</td>\n",
              "      <td>52.654370</td>\n",
              "      <td>1.183490</td>\n",
              "      <td>2</td>\n",
              "      <td>0.21</td>\n",
              "      <td>60.384730</td>\n",
              "      <td>1.725278</td>\n",
              "    </tr>\n",
              "    <tr>\n",
              "      <th>779</th>\n",
              "      <td>2020</td>\n",
              "      <td>10</td>\n",
              "      <td>20</td>\n",
              "      <td>3.653400</td>\n",
              "      <td>26.10</td>\n",
              "      <td>3.60</td>\n",
              "      <td>0.0</td>\n",
              "      <td>35.532595</td>\n",
              "      <td>1.180937</td>\n",
              "      <td>2</td>\n",
              "      <td>0.21</td>\n",
              "      <td>68.794210</td>\n",
              "      <td>1.965549</td>\n",
              "    </tr>\n",
              "  </tbody>\n",
              "</table>\n",
              "<p>780 rows × 13 columns</p>\n",
              "</div>"
            ],
            "text/plain": [
              "        년   월   일  Solar radiation  ...  단면or양면   차광율         발전량  모듈 단위 발전량\n",
              "0    2020   6  13         2.053739  ...       1  0.32   69.842929   0.997756\n",
              "1    2020   6  14         1.405904  ...       1  0.32   47.811548   0.683022\n",
              "2    2020   6  15         6.178615  ...       1  0.32  210.120487   3.001721\n",
              "3    2020   6  16         5.746005  ...       1  0.32  195.408398   2.791549\n",
              "4    2020   6  17         3.136012  ...       1  0.32  106.648534   1.523550\n",
              "..    ...  ..  ..              ...  ...     ...   ...         ...        ...\n",
              "775  2020  10  16         1.414246  ...       2  0.21   26.630512   0.760872\n",
              "776  2020  10  17         3.522972  ...       2  0.21   66.338222   1.895378\n",
              "777  2020  10  18         3.433689  ...       2  0.21   64.657013   1.847343\n",
              "778  2020  10  19         3.206804  ...       2  0.21   60.384730   1.725278\n",
              "779  2020  10  20         3.653400  ...       2  0.21   68.794210   1.965549\n",
              "\n",
              "[780 rows x 13 columns]"
            ]
          },
          "metadata": {
            "tags": []
          },
          "execution_count": 3
        }
      ]
    },
    {
      "cell_type": "code",
      "metadata": {
        "colab": {
          "base_uri": "https://localhost:8080/"
        },
        "id": "dop4jaR3MZFC",
        "scrolled": true,
        "outputId": "ce010f71-81bd-41d8-b8c0-aa8572f5d940"
      },
      "source": [
        "df.info()"
      ],
      "execution_count": 4,
      "outputs": [
        {
          "output_type": "stream",
          "text": [
            "<class 'pandas.core.frame.DataFrame'>\n",
            "RangeIndex: 780 entries, 0 to 779\n",
            "Data columns (total 13 columns):\n",
            " #   Column           Non-Null Count  Dtype  \n",
            "---  ------           --------------  -----  \n",
            " 0   년                780 non-null    int64  \n",
            " 1   월                780 non-null    int64  \n",
            " 2   일                780 non-null    int64  \n",
            " 3   Solar radiation  780 non-null    float64\n",
            " 4   Tmax             780 non-null    float64\n",
            " 5   Tmin             780 non-null    float64\n",
            " 6   Precipiation     780 non-null    float64\n",
            " 7   Humidity         780 non-null    float64\n",
            " 8   Windspeed        780 non-null    float64\n",
            " 9   단면or양면           780 non-null    int64  \n",
            " 10  차광율              780 non-null    float64\n",
            " 11  발전량              780 non-null    float64\n",
            " 12  모듈 단위 발전량        780 non-null    float64\n",
            "dtypes: float64(9), int64(4)\n",
            "memory usage: 79.3 KB\n"
          ],
          "name": "stdout"
        }
      ]
    },
    {
      "cell_type": "code",
      "metadata": {
        "colab": {
          "base_uri": "https://localhost:8080/"
        },
        "id": "GEskwG8BMZFC",
        "outputId": "b9779bf3-bfb8-4301-fbbe-f00a5a4bcc31"
      },
      "source": [
        "df[\"발전량\"].describe()"
      ],
      "execution_count": 5,
      "outputs": [
        {
          "output_type": "execute_result",
          "data": {
            "text/plain": [
              "count    780.000000\n",
              "mean      88.968863\n",
              "std       46.725600\n",
              "min        6.103421\n",
              "25%       52.211445\n",
              "50%       84.450030\n",
              "75%      121.930918\n",
              "max      232.688984\n",
              "Name: 발전량, dtype: float64"
            ]
          },
          "metadata": {
            "tags": []
          },
          "execution_count": 5
        }
      ]
    },
    {
      "cell_type": "code",
      "metadata": {
        "id": "xTnarBhFMZFD"
      },
      "source": [
        "X = df.iloc[:,:-2]\n",
        "y = df.iloc[:,-2]"
      ],
      "execution_count": 6,
      "outputs": []
    },
    {
      "cell_type": "code",
      "metadata": {
        "colab": {
          "base_uri": "https://localhost:8080/",
          "height": 415
        },
        "id": "T4Fr_xCBMZFD",
        "outputId": "da5bc508-93f3-42a8-88ed-154a4ed4e689"
      },
      "source": [
        "X"
      ],
      "execution_count": 7,
      "outputs": [
        {
          "output_type": "execute_result",
          "data": {
            "text/html": [
              "<div>\n",
              "<style scoped>\n",
              "    .dataframe tbody tr th:only-of-type {\n",
              "        vertical-align: middle;\n",
              "    }\n",
              "\n",
              "    .dataframe tbody tr th {\n",
              "        vertical-align: top;\n",
              "    }\n",
              "\n",
              "    .dataframe thead th {\n",
              "        text-align: right;\n",
              "    }\n",
              "</style>\n",
              "<table border=\"1\" class=\"dataframe\">\n",
              "  <thead>\n",
              "    <tr style=\"text-align: right;\">\n",
              "      <th></th>\n",
              "      <th>년</th>\n",
              "      <th>월</th>\n",
              "      <th>일</th>\n",
              "      <th>Solar radiation</th>\n",
              "      <th>Tmax</th>\n",
              "      <th>Tmin</th>\n",
              "      <th>Precipiation</th>\n",
              "      <th>Humidity</th>\n",
              "      <th>Windspeed</th>\n",
              "      <th>단면or양면</th>\n",
              "      <th>차광율</th>\n",
              "    </tr>\n",
              "  </thead>\n",
              "  <tbody>\n",
              "    <tr>\n",
              "      <th>0</th>\n",
              "      <td>2020</td>\n",
              "      <td>6</td>\n",
              "      <td>13</td>\n",
              "      <td>2.053739</td>\n",
              "      <td>29.12</td>\n",
              "      <td>22.20</td>\n",
              "      <td>50.2</td>\n",
              "      <td>85.562125</td>\n",
              "      <td>1.977031</td>\n",
              "      <td>1</td>\n",
              "      <td>0.32</td>\n",
              "    </tr>\n",
              "    <tr>\n",
              "      <th>1</th>\n",
              "      <td>2020</td>\n",
              "      <td>6</td>\n",
              "      <td>14</td>\n",
              "      <td>1.405904</td>\n",
              "      <td>26.30</td>\n",
              "      <td>21.60</td>\n",
              "      <td>42.8</td>\n",
              "      <td>85.181196</td>\n",
              "      <td>1.616806</td>\n",
              "      <td>1</td>\n",
              "      <td>0.32</td>\n",
              "    </tr>\n",
              "    <tr>\n",
              "      <th>2</th>\n",
              "      <td>2020</td>\n",
              "      <td>6</td>\n",
              "      <td>15</td>\n",
              "      <td>6.178615</td>\n",
              "      <td>31.74</td>\n",
              "      <td>17.20</td>\n",
              "      <td>0.0</td>\n",
              "      <td>68.896728</td>\n",
              "      <td>1.627951</td>\n",
              "      <td>1</td>\n",
              "      <td>0.32</td>\n",
              "    </tr>\n",
              "    <tr>\n",
              "      <th>3</th>\n",
              "      <td>2020</td>\n",
              "      <td>6</td>\n",
              "      <td>16</td>\n",
              "      <td>5.746005</td>\n",
              "      <td>32.50</td>\n",
              "      <td>18.00</td>\n",
              "      <td>0.0</td>\n",
              "      <td>67.463369</td>\n",
              "      <td>1.835434</td>\n",
              "      <td>1</td>\n",
              "      <td>0.32</td>\n",
              "    </tr>\n",
              "    <tr>\n",
              "      <th>4</th>\n",
              "      <td>2020</td>\n",
              "      <td>6</td>\n",
              "      <td>17</td>\n",
              "      <td>3.136012</td>\n",
              "      <td>28.86</td>\n",
              "      <td>18.18</td>\n",
              "      <td>4.4</td>\n",
              "      <td>74.592449</td>\n",
              "      <td>1.514601</td>\n",
              "      <td>1</td>\n",
              "      <td>0.32</td>\n",
              "    </tr>\n",
              "    <tr>\n",
              "      <th>...</th>\n",
              "      <td>...</td>\n",
              "      <td>...</td>\n",
              "      <td>...</td>\n",
              "      <td>...</td>\n",
              "      <td>...</td>\n",
              "      <td>...</td>\n",
              "      <td>...</td>\n",
              "      <td>...</td>\n",
              "      <td>...</td>\n",
              "      <td>...</td>\n",
              "      <td>...</td>\n",
              "    </tr>\n",
              "    <tr>\n",
              "      <th>775</th>\n",
              "      <td>2020</td>\n",
              "      <td>10</td>\n",
              "      <td>16</td>\n",
              "      <td>1.414246</td>\n",
              "      <td>18.90</td>\n",
              "      <td>5.70</td>\n",
              "      <td>0.0</td>\n",
              "      <td>65.138326</td>\n",
              "      <td>1.280156</td>\n",
              "      <td>2</td>\n",
              "      <td>0.21</td>\n",
              "    </tr>\n",
              "    <tr>\n",
              "      <th>776</th>\n",
              "      <td>2020</td>\n",
              "      <td>10</td>\n",
              "      <td>17</td>\n",
              "      <td>3.522972</td>\n",
              "      <td>23.60</td>\n",
              "      <td>4.60</td>\n",
              "      <td>0.0</td>\n",
              "      <td>63.536590</td>\n",
              "      <td>1.847083</td>\n",
              "      <td>2</td>\n",
              "      <td>0.21</td>\n",
              "    </tr>\n",
              "    <tr>\n",
              "      <th>777</th>\n",
              "      <td>2020</td>\n",
              "      <td>10</td>\n",
              "      <td>18</td>\n",
              "      <td>3.433689</td>\n",
              "      <td>23.30</td>\n",
              "      <td>4.60</td>\n",
              "      <td>0.0</td>\n",
              "      <td>39.393374</td>\n",
              "      <td>1.515399</td>\n",
              "      <td>2</td>\n",
              "      <td>0.21</td>\n",
              "    </tr>\n",
              "    <tr>\n",
              "      <th>778</th>\n",
              "      <td>2020</td>\n",
              "      <td>10</td>\n",
              "      <td>19</td>\n",
              "      <td>3.206804</td>\n",
              "      <td>23.90</td>\n",
              "      <td>4.30</td>\n",
              "      <td>0.0</td>\n",
              "      <td>52.654370</td>\n",
              "      <td>1.183490</td>\n",
              "      <td>2</td>\n",
              "      <td>0.21</td>\n",
              "    </tr>\n",
              "    <tr>\n",
              "      <th>779</th>\n",
              "      <td>2020</td>\n",
              "      <td>10</td>\n",
              "      <td>20</td>\n",
              "      <td>3.653400</td>\n",
              "      <td>26.10</td>\n",
              "      <td>3.60</td>\n",
              "      <td>0.0</td>\n",
              "      <td>35.532595</td>\n",
              "      <td>1.180937</td>\n",
              "      <td>2</td>\n",
              "      <td>0.21</td>\n",
              "    </tr>\n",
              "  </tbody>\n",
              "</table>\n",
              "<p>780 rows × 11 columns</p>\n",
              "</div>"
            ],
            "text/plain": [
              "        년   월   일  Solar radiation  ...   Humidity  Windspeed  단면or양면   차광율\n",
              "0    2020   6  13         2.053739  ...  85.562125   1.977031       1  0.32\n",
              "1    2020   6  14         1.405904  ...  85.181196   1.616806       1  0.32\n",
              "2    2020   6  15         6.178615  ...  68.896728   1.627951       1  0.32\n",
              "3    2020   6  16         5.746005  ...  67.463369   1.835434       1  0.32\n",
              "4    2020   6  17         3.136012  ...  74.592449   1.514601       1  0.32\n",
              "..    ...  ..  ..              ...  ...        ...        ...     ...   ...\n",
              "775  2020  10  16         1.414246  ...  65.138326   1.280156       2  0.21\n",
              "776  2020  10  17         3.522972  ...  63.536590   1.847083       2  0.21\n",
              "777  2020  10  18         3.433689  ...  39.393374   1.515399       2  0.21\n",
              "778  2020  10  19         3.206804  ...  52.654370   1.183490       2  0.21\n",
              "779  2020  10  20         3.653400  ...  35.532595   1.180937       2  0.21\n",
              "\n",
              "[780 rows x 11 columns]"
            ]
          },
          "metadata": {
            "tags": []
          },
          "execution_count": 7
        }
      ]
    },
    {
      "cell_type": "code",
      "metadata": {
        "colab": {
          "base_uri": "https://localhost:8080/"
        },
        "id": "BVVfADP0MZFD",
        "outputId": "407bf3d8-11cb-480c-eee5-fc56d1984dcb"
      },
      "source": [
        "y"
      ],
      "execution_count": 8,
      "outputs": [
        {
          "output_type": "execute_result",
          "data": {
            "text/plain": [
              "0       69.842929\n",
              "1       47.811548\n",
              "2      210.120487\n",
              "3      195.408398\n",
              "4      106.648534\n",
              "          ...    \n",
              "775     26.630512\n",
              "776     66.338222\n",
              "777     64.657013\n",
              "778     60.384730\n",
              "779     68.794210\n",
              "Name: 발전량, Length: 780, dtype: float64"
            ]
          },
          "metadata": {
            "tags": []
          },
          "execution_count": 8
        }
      ]
    },
    {
      "cell_type": "code",
      "metadata": {
        "colab": {
          "base_uri": "https://localhost:8080/"
        },
        "id": "erSfq2zzMZFE",
        "outputId": "642b4532-f3ab-40f4-8c39-9a5c4f0cd291"
      },
      "source": [
        "# 데이터 전처리 StandardScaler\n",
        "\n",
        "X = df.iloc[:,:-2]\n",
        "y = df.iloc[:,-2]\n",
        "X_train, X_test, y_train, y_test = train_test_split(X,y,test_size=0.2)\n",
        "\n",
        "scaler = StandardScaler()\n",
        "scaler.fit(X_train)\n",
        "X_train = scaler.fit_transform(X_train)\n",
        "X_test = scaler.transform(X_test)\n",
        "\n",
        "linear_svr=SVR(kernel='linear')\n",
        "linear_svr.fit(X_train,y_train)\n",
        "\n",
        "print(\"Linear SVR 학습데이터 점수: {}\".format(linear_svr.score(X_train,y_train)))\n",
        "print(\"Linear SVR 평가데이터 점수: {}\".format(linear_svr.score(X_test,y_test)))\n",
        "\n",
        "poly_svr=SVR(kernel='poly')\n",
        "poly_svr.fit(X_train,y_train)\n",
        "\n",
        "print(\"poly SVR 학습데이터 점수: {}\".format(poly_svr.score(X_train,y_train)))\n",
        "print(\"poly SVR 평가데이터 점수: {}\".format(poly_svr.score(X_test,y_test)))\n",
        "\n",
        "rbf_svr=SVR(kernel='rbf')\n",
        "rbf_svr.fit(X_train,y_train)\n",
        "\n",
        "print(\"RBF SVR 학습데이터 점수: {}\".format(rbf_svr.score(X_train,y_train)))\n",
        "print(\"RBF SVR 평가데이터 점수: {}\".format(rbf_svr.score(X_test,y_test)))"
      ],
      "execution_count": 9,
      "outputs": [
        {
          "output_type": "stream",
          "text": [
            "Linear SVR 학습데이터 점수: 0.9153109127749669\n",
            "Linear SVR 평가데이터 점수: 0.9077701965724915\n",
            "poly SVR 학습데이터 점수: 0.5475405634855319\n",
            "poly SVR 평가데이터 점수: 0.5119834488245607\n",
            "RBF SVR 학습데이터 점수: 0.7172005594293007\n",
            "RBF SVR 평가데이터 점수: 0.729033070254616\n"
          ],
          "name": "stdout"
        }
      ]
    },
    {
      "cell_type": "code",
      "metadata": {
        "colab": {
          "base_uri": "https://localhost:8080/"
        },
        "id": "xgB61_skO0rB",
        "outputId": "9a7671c6-1322-4b63-d2ea-3a795b26a64a"
      },
      "source": [
        "# 데이터 전처리 MinMaxScaler\n",
        "\n",
        "scaler = MinMaxScaler()\n",
        "X_train = scaler.fit_transform(X_train)\n",
        "X_test = scaler.transform(X_test)\n",
        "\n",
        "linear_svr=SVR(kernel='linear')\n",
        "linear_svr.fit(X_train,y_train)\n",
        "\n",
        "print(\"Linear SVR 학습데이터 점수: {}\".format(linear_svr.score(X_train,y_train)))\n",
        "print(\"Linear SVR 평가데이터 점수: {}\".format(linear_svr.score(X_test,y_test)))\n",
        "\n",
        "poly_svr=SVR(kernel='poly')\n",
        "poly_svr.fit(X_train,y_train)\n",
        "\n",
        "print(\"poly SVR 학습데이터 점수: {}\".format(poly_svr.score(X_train,y_train)))\n",
        "print(\"poly SVR 평가데이터 점수: {}\".format(poly_svr.score(X_test,y_test)))\n",
        "\n",
        "rbf_svr=SVR(kernel='rbf')\n",
        "rbf_svr.fit(X_train,y_train)\n",
        "\n",
        "print(\"RBF SVR 학습데이터 점수: {}\".format(rbf_svr.score(X_train,y_train)))\n",
        "print(\"RBF SVR 평가데이터 점수: {}\".format(rbf_svr.score(X_test,y_test)))"
      ],
      "execution_count": 10,
      "outputs": [
        {
          "output_type": "stream",
          "text": [
            "Linear SVR 학습데이터 점수: 0.8383648935245804\n",
            "Linear SVR 평가데이터 점수: 0.8160148839699146\n",
            "poly SVR 학습데이터 점수: 0.9609226720782936\n",
            "poly SVR 평가데이터 점수: 0.9637394851385639\n",
            "RBF SVR 학습데이터 점수: 0.7047984025515541\n",
            "RBF SVR 평가데이터 점수: 0.6852529484924191\n"
          ],
          "name": "stdout"
        }
      ]
    },
    {
      "cell_type": "code",
      "metadata": {
        "colab": {
          "base_uri": "https://localhost:8080/",
          "height": 281
        },
        "id": "U7heUO9ZPKH7",
        "outputId": "9eff357f-f8d5-4bcb-a269-c39a60fb7f31"
      },
      "source": [
        "# StandardScaler\n",
        "\n",
        "X = df.iloc[:,:-2]\n",
        "y = df.iloc[:,-2]\n",
        "X_train, X_test, y_train, y_test = train_test_split(X,y,test_size=0.2)\n",
        "\n",
        "scaler = StandardScaler()\n",
        "scaler.fit(X_train)\n",
        "X_train = scaler.transform(X_train)\n",
        "X_test = scaler.transform(X_test)\n",
        "\n",
        "model = SVR(kernel='linear')\n",
        "model.fit(X_train,y_train)\n",
        "\n",
        "X_comp = TSNE(n_components=1).fit_transform(X)\n",
        "plt.scatter(X_comp,y)"
      ],
      "execution_count": 11,
      "outputs": [
        {
          "output_type": "execute_result",
          "data": {
            "text/plain": [
              "<matplotlib.collections.PathCollection at 0x7f2b2b4ddcd0>"
            ]
          },
          "metadata": {
            "tags": []
          },
          "execution_count": 11
        },
        {
          "output_type": "display_data",
          "data": {
            "image/png": "[encoded data removed]",
            "text/plain": [
              "<Figure size 432x288 with 1 Axes>"
            ]
          },
          "metadata": {
            "tags": []
          }
        }
      ]
    },
    {
      "cell_type": "code",
      "metadata": {
        "colab": {
          "base_uri": "https://localhost:8080/",
          "height": 281
        },
        "id": "mGbX_GzZPl_f",
        "outputId": "6b3dccf6-ccc9-4619-823b-4863568552a1"
      },
      "source": [
        "model.fit(X_comp,y)\n",
        "predict = model.predict(X_comp)\n",
        "plt.scatter(X_comp,y)\n",
        "plt.scatter(X_comp,predict,color='r')"
      ],
      "execution_count": 12,
      "outputs": [
        {
          "output_type": "execute_result",
          "data": {
            "text/plain": [
              "<matplotlib.collections.PathCollection at 0x7f2b2afb8fd0>"
            ]
          },
          "metadata": {
            "tags": []
          },
          "execution_count": 12
        },
        {
          "output_type": "display_data",
          "data": {
            "image/png": "[encoded data removed]",
            "text/plain": [
              "<Figure size 432x288 with 1 Axes>"
            ]
          },
          "metadata": {
            "tags": []
          }
        }
      ]
    },
    {
      "cell_type": "code",
      "metadata": {
        "colab": {
          "base_uri": "https://localhost:8080/"
        },
        "id": "Svrn0osJPq0d",
        "outputId": "dbd91afc-8250-4e7b-cd08-a9e2ccd7c317"
      },
      "source": [
        "estimator = make_pipeline(StandardScaler(),SVR(kernel='linear'))\n",
        "cross_validate(estimator=estimator,X=X,y=y,cv=2,n_jobs=multiprocessing.cpu_count(),verbose=True)"
      ],
      "execution_count": 13,
      "outputs": [
        {
          "output_type": "stream",
          "text": [
            "[Parallel(n_jobs=2)]: Using backend LokyBackend with 2 concurrent workers.\n",
            "[Parallel(n_jobs=2)]: Done   2 out of   2 | elapsed:    1.5s remaining:    0.0s\n",
            "[Parallel(n_jobs=2)]: Done   2 out of   2 | elapsed:    1.5s finished\n"
          ],
          "name": "stderr"
        },
        {
          "output_type": "execute_result",
          "data": {
            "text/plain": [
              "{'fit_time': array([0.02408791, 0.02675939]),\n",
              " 'score_time': array([0.00667405, 0.00708985]),\n",
              " 'test_score': array([0.80491008, 0.91021648])}"
            ]
          },
          "metadata": {
            "tags": []
          },
          "execution_count": 13
        }
      ]
    },
    {
      "cell_type": "code",
      "metadata": {
        "colab": {
          "base_uri": "https://localhost:8080/"
        },
        "id": "PFNY3QPzqwJ9",
        "outputId": "24a1ba8f-a1e4-42b2-b62c-289d7fb148b5"
      },
      "source": [
        "pipe = Pipeline([('scaler',StandardScaler()),('model',SVR(kernel='linear'))])\n",
        "\n",
        "param_grid = [{'model__kernel':['rbf','poly','linear']}]\n",
        "\n",
        "gs = GridSearchCV(estimator=pipe, param_grid=param_grid, n_jobs=multiprocessing.cpu_count(), cv=2, verbose=True)\n",
        "\n",
        "gs.fit(X,y)"
      ],
      "execution_count": 63,
      "outputs": [
        {
          "output_type": "stream",
          "text": [
            "Fitting 2 folds for each of 3 candidates, totalling 6 fits\n"
          ],
          "name": "stdout"
        },
        {
          "output_type": "stream",
          "text": [
            "[Parallel(n_jobs=2)]: Using backend LokyBackend with 2 concurrent workers.\n",
            "[Parallel(n_jobs=2)]: Done   6 out of   6 | elapsed:    0.1s finished\n"
          ],
          "name": "stderr"
        },
        {
          "output_type": "execute_result",
          "data": {
            "text/plain": [
              "GridSearchCV(cv=2, error_score=nan,\n",
              "             estimator=Pipeline(memory=None,\n",
              "                                steps=[('scaler',\n",
              "                                        StandardScaler(copy=True,\n",
              "                                                       with_mean=True,\n",
              "                                                       with_std=True)),\n",
              "                                       ('model',\n",
              "                                        SVR(C=1.0, cache_size=200, coef0=0.0,\n",
              "                                            degree=3, epsilon=0.1,\n",
              "                                            gamma='scale', kernel='linear',\n",
              "                                            max_iter=-1, shrinking=True,\n",
              "                                            tol=0.001, verbose=False))],\n",
              "                                verbose=False),\n",
              "             iid='deprecated', n_jobs=2,\n",
              "             param_grid=[{'model__kernel': ['rbf', 'poly', 'linear']}],\n",
              "             pre_dispatch='2*n_jobs', refit=True, return_train_score=False,\n",
              "             scoring=None, verbose=True)"
            ]
          },
          "metadata": {
            "tags": []
          },
          "execution_count": 63
        }
      ]
    },
    {
      "cell_type": "code",
      "metadata": {
        "colab": {
          "base_uri": "https://localhost:8080/"
        },
        "id": "MDGzvMWDq6Bu",
        "outputId": "92ade993-2bad-4fb9-ab43-17f8bfc239ad"
      },
      "source": [
        "gs.best_estimator_"
      ],
      "execution_count": 64,
      "outputs": [
        {
          "output_type": "execute_result",
          "data": {
            "text/plain": [
              "Pipeline(memory=None,\n",
              "         steps=[('scaler',\n",
              "                 StandardScaler(copy=True, with_mean=True, with_std=True)),\n",
              "                ('model',\n",
              "                 SVR(C=1.0, cache_size=200, coef0=0.0, degree=3, epsilon=0.1,\n",
              "                     gamma='scale', kernel='linear', max_iter=-1,\n",
              "                     shrinking=True, tol=0.001, verbose=False))],\n",
              "         verbose=False)"
            ]
          },
          "metadata": {
            "tags": []
          },
          "execution_count": 64
        }
      ]
    },
    {
      "cell_type": "code",
      "metadata": {
        "colab": {
          "base_uri": "https://localhost:8080/"
        },
        "id": "wlA9sKuyw8RJ",
        "outputId": "ca46f392-bc75-418f-8a0d-7490bb700305"
      },
      "source": [
        "# kernel = linear\n",
        "\n",
        "pipe = Pipeline([('scaler',StandardScaler()),('model',SVR(kernel='linear'))])\n",
        "param_grid = [{'model__gamma':['scale','auto'],'model__C':[1.0, 0.1, 0.01],'model__epsilon':[1.0,0.1,0.01]}]\n",
        "\n",
        "gs = GridSearchCV(estimator=pipe, param_grid=param_grid, n_jobs=multiprocessing.cpu_count(), cv=2, verbose=True)\n",
        "\n",
        "gs.fit(X,y)"
      ],
      "execution_count": 65,
      "outputs": [
        {
          "output_type": "stream",
          "text": [
            "Fitting 2 folds for each of 18 candidates, totalling 36 fits\n"
          ],
          "name": "stdout"
        },
        {
          "output_type": "stream",
          "text": [
            "[Parallel(n_jobs=2)]: Using backend LokyBackend with 2 concurrent workers.\n",
            "[Parallel(n_jobs=2)]: Done  36 out of  36 | elapsed:    0.6s finished\n"
          ],
          "name": "stderr"
        },
        {
          "output_type": "execute_result",
          "data": {
            "text/plain": [
              "GridSearchCV(cv=2, error_score=nan,\n",
              "             estimator=Pipeline(memory=None,\n",
              "                                steps=[('scaler',\n",
              "                                        StandardScaler(copy=True,\n",
              "                                                       with_mean=True,\n",
              "                                                       with_std=True)),\n",
              "                                       ('model',\n",
              "                                        SVR(C=1.0, cache_size=200, coef0=0.0,\n",
              "                                            degree=3, epsilon=0.1,\n",
              "                                            gamma='scale', kernel='linear',\n",
              "                                            max_iter=-1, shrinking=True,\n",
              "                                            tol=0.001, verbose=False))],\n",
              "                                verbose=False),\n",
              "             iid='deprecated', n_jobs=2,\n",
              "             param_grid=[{'model__C': [1.0, 0.1, 0.01],\n",
              "                          'model__epsilon': [1.0, 0.1, 0.01],\n",
              "                          'model__gamma': ['scale', 'auto']}],\n",
              "             pre_dispatch='2*n_jobs', refit=True, return_train_score=False,\n",
              "             scoring=None, verbose=True)"
            ]
          },
          "metadata": {
            "tags": []
          },
          "execution_count": 65
        }
      ]
    },
    {
      "cell_type": "code",
      "metadata": {
        "colab": {
          "base_uri": "https://localhost:8080/"
        },
        "id": "D5OdlKDmw8RL",
        "outputId": "c0f5ac24-862f-40ff-95ed-071724ab0763"
      },
      "source": [
        "gs.best_estimator_"
      ],
      "execution_count": 66,
      "outputs": [
        {
          "output_type": "execute_result",
          "data": {
            "text/plain": [
              "Pipeline(memory=None,\n",
              "         steps=[('scaler',\n",
              "                 StandardScaler(copy=True, with_mean=True, with_std=True)),\n",
              "                ('model',\n",
              "                 SVR(C=1.0, cache_size=200, coef0=0.0, degree=3, epsilon=0.1,\n",
              "                     gamma='scale', kernel='linear', max_iter=-1,\n",
              "                     shrinking=True, tol=0.001, verbose=False))],\n",
              "         verbose=False)"
            ]
          },
          "metadata": {
            "tags": []
          },
          "execution_count": 66
        }
      ]
    },
    {
      "cell_type": "code",
      "metadata": {
        "colab": {
          "base_uri": "https://localhost:8080/"
        },
        "id": "O62QN5rSw8RL",
        "outputId": "db5127c9-055a-4319-de8c-ec4ac7514f97"
      },
      "source": [
        "model = gs.best_estimator_\n",
        "model.fit(X_train,y_train)"
      ],
      "execution_count": 67,
      "outputs": [
        {
          "output_type": "execute_result",
          "data": {
            "text/plain": [
              "Pipeline(memory=None,\n",
              "         steps=[('scaler',\n",
              "                 StandardScaler(copy=True, with_mean=True, with_std=True)),\n",
              "                ('model',\n",
              "                 SVR(C=1.0, cache_size=200, coef0=0.0, degree=3, epsilon=0.1,\n",
              "                     gamma='scale', kernel='linear', max_iter=-1,\n",
              "                     shrinking=True, tol=0.001, verbose=False))],\n",
              "         verbose=False)"
            ]
          },
          "metadata": {
            "tags": []
          },
          "execution_count": 67
        }
      ]
    },
    {
      "cell_type": "code",
      "metadata": {
        "colab": {
          "base_uri": "https://localhost:8080/"
        },
        "id": "0JMKOj62w8RM",
        "outputId": "eca21e18-6f28-4acf-992c-8818fcec3c71"
      },
      "source": [
        "print(\"학습데이터 점수: {}\".format(model.score(X_train,y_train)))\n",
        "print(\"평가데이터 점수: {}\".format(model.score(X_test,y_test)))"
      ],
      "execution_count": 68,
      "outputs": [
        {
          "output_type": "stream",
          "text": [
            "학습데이터 점수: 0.9145453297061834\n",
            "평가데이터 점수: 0.9054195012069969\n"
          ],
          "name": "stdout"
        }
      ]
    },
    {
      "cell_type": "code",
      "metadata": {
        "id": "5Jt0I4kVzlWw"
      },
      "source": [
        ""
      ],
      "execution_count": null,
      "outputs": []
    },
    {
      "cell_type": "code",
      "metadata": {
        "colab": {
          "base_uri": "https://localhost:8080/",
          "height": 281
        },
        "id": "quRcwNGDzljK",
        "outputId": "7014566d-ac83-4add-a22c-0165742e82f7"
      },
      "source": [
        "# MinMaxScaler\n",
        "\n",
        "X = df.iloc[:,:-2]\n",
        "y = df.iloc[:,-2]\n",
        "X_train, X_test, y_train, y_test = train_test_split(X,y,test_size=0.2)\n",
        "\n",
        "scaler = MinMaxScaler()\n",
        "scaler.fit(X_train)\n",
        "X_train = scaler.transform(X_train)\n",
        "X_test = scaler.transform(X_test)\n",
        "\n",
        "model = SVR(kernel='linear')\n",
        "model.fit(X_train,y_train)\n",
        "\n",
        "X_comp = TSNE(n_components=1).fit_transform(X)\n",
        "plt.scatter(X_comp,y)"
      ],
      "execution_count": 69,
      "outputs": [
        {
          "output_type": "execute_result",
          "data": {
            "text/plain": [
              "<matplotlib.collections.PathCollection at 0x7f2b2a57ba10>"
            ]
          },
          "metadata": {
            "tags": []
          },
          "execution_count": 69
        },
        {
          "output_type": "display_data",
          "data": {
            "image/png": "[encoded data removed]",
            "text/plain": [
              "<Figure size 432x288 with 1 Axes>"
            ]
          },
          "metadata": {
            "tags": []
          }
        }
      ]
    },
    {
      "cell_type": "code",
      "metadata": {
        "colab": {
          "base_uri": "https://localhost:8080/",
          "height": 281
        },
        "id": "ocLGPXeYzljL",
        "outputId": "b40edf8d-46d4-4cd8-bd7f-02bab8c34aaf"
      },
      "source": [
        "model.fit(X_comp,y)\n",
        "predict = model.predict(X_comp)\n",
        "plt.scatter(X_comp,y)\n",
        "plt.scatter(X_comp,predict,color='r')"
      ],
      "execution_count": 70,
      "outputs": [
        {
          "output_type": "execute_result",
          "data": {
            "text/plain": [
              "<matplotlib.collections.PathCollection at 0x7f2b2a563710>"
            ]
          },
          "metadata": {
            "tags": []
          },
          "execution_count": 70
        },
        {
          "output_type": "display_data",
          "data": {
            "image/png": "[encoded data removed]",
            "text/plain": [
              "<Figure size 432x288 with 1 Axes>"
            ]
          },
          "metadata": {
            "tags": []
          }
        }
      ]
    },
    {
      "cell_type": "code",
      "metadata": {
        "colab": {
          "base_uri": "https://localhost:8080/"
        },
        "id": "uq9AoUmfzljM",
        "outputId": "3f56aa52-8474-4934-bd8f-ae3d13f166c9"
      },
      "source": [
        "estimator = make_pipeline(MinMaxScaler(),SVR(kernel='linear'))\n",
        "cross_validate(estimator=estimator,X=X,y=y,cv=2,n_jobs=multiprocessing.cpu_count(),verbose=True)"
      ],
      "execution_count": 71,
      "outputs": [
        {
          "output_type": "stream",
          "text": [
            "[Parallel(n_jobs=2)]: Using backend LokyBackend with 2 concurrent workers.\n",
            "[Parallel(n_jobs=2)]: Done   2 out of   2 | elapsed:    0.1s remaining:    0.0s\n",
            "[Parallel(n_jobs=2)]: Done   2 out of   2 | elapsed:    0.1s finished\n"
          ],
          "name": "stderr"
        },
        {
          "output_type": "execute_result",
          "data": {
            "text/plain": [
              "{'fit_time': array([0.03877068, 0.02446079]),\n",
              " 'score_time': array([0.00576115, 0.01300406]),\n",
              " 'test_score': array([0.8011856 , 0.68825664])}"
            ]
          },
          "metadata": {
            "tags": []
          },
          "execution_count": 71
        }
      ]
    },
    {
      "cell_type": "code",
      "metadata": {
        "colab": {
          "base_uri": "https://localhost:8080/"
        },
        "id": "9uzyCtJXzljM",
        "outputId": "0c23c8be-0843-461a-d52e-f27de3de199a"
      },
      "source": [
        "pipe = Pipeline([('scaler',MinMaxScaler()),('model',SVR(kernel='poly'))])\n",
        "\n",
        "param_grid = [{'model__kernel':['rbf','poly','linear']}]\n",
        "\n",
        "gs = GridSearchCV(estimator=pipe, param_grid=param_grid, n_jobs=multiprocessing.cpu_count(), cv=2, verbose=True)\n",
        "\n",
        "gs.fit(X,y)"
      ],
      "execution_count": 72,
      "outputs": [
        {
          "output_type": "stream",
          "text": [
            "Fitting 2 folds for each of 3 candidates, totalling 6 fits\n"
          ],
          "name": "stdout"
        },
        {
          "output_type": "stream",
          "text": [
            "[Parallel(n_jobs=2)]: Using backend LokyBackend with 2 concurrent workers.\n",
            "[Parallel(n_jobs=2)]: Done   6 out of   6 | elapsed:    0.1s finished\n"
          ],
          "name": "stderr"
        },
        {
          "output_type": "execute_result",
          "data": {
            "text/plain": [
              "GridSearchCV(cv=2, error_score=nan,\n",
              "             estimator=Pipeline(memory=None,\n",
              "                                steps=[('scaler',\n",
              "                                        MinMaxScaler(copy=True,\n",
              "                                                     feature_range=(0, 1))),\n",
              "                                       ('model',\n",
              "                                        SVR(C=1.0, cache_size=200, coef0=0.0,\n",
              "                                            degree=3, epsilon=0.1,\n",
              "                                            gamma='scale', kernel='poly',\n",
              "                                            max_iter=-1, shrinking=True,\n",
              "                                            tol=0.001, verbose=False))],\n",
              "                                verbose=False),\n",
              "             iid='deprecated', n_jobs=2,\n",
              "             param_grid=[{'model__kernel': ['rbf', 'poly', 'linear']}],\n",
              "             pre_dispatch='2*n_jobs', refit=True, return_train_score=False,\n",
              "             scoring=None, verbose=True)"
            ]
          },
          "metadata": {
            "tags": []
          },
          "execution_count": 72
        }
      ]
    },
    {
      "cell_type": "code",
      "metadata": {
        "colab": {
          "base_uri": "https://localhost:8080/"
        },
        "id": "_muuZOMwzljM",
        "outputId": "d22146ac-ae83-4413-b404-141d013f041e"
      },
      "source": [
        "gs.best_estimator_"
      ],
      "execution_count": 73,
      "outputs": [
        {
          "output_type": "execute_result",
          "data": {
            "text/plain": [
              "Pipeline(memory=None,\n",
              "         steps=[('scaler', MinMaxScaler(copy=True, feature_range=(0, 1))),\n",
              "                ('model',\n",
              "                 SVR(C=1.0, cache_size=200, coef0=0.0, degree=3, epsilon=0.1,\n",
              "                     gamma='scale', kernel='poly', max_iter=-1, shrinking=True,\n",
              "                     tol=0.001, verbose=False))],\n",
              "         verbose=False)"
            ]
          },
          "metadata": {
            "tags": []
          },
          "execution_count": 73
        }
      ]
    },
    {
      "cell_type": "code",
      "metadata": {
        "colab": {
          "base_uri": "https://localhost:8080/"
        },
        "id": "2m0CqWnvzljM",
        "outputId": "cfac90af-09c9-45c6-ab37-f4f71007b059"
      },
      "source": [
        "# kernel = poly\n",
        "\n",
        "pipe = Pipeline([('scaler',MinMaxScaler()),('model',SVR(kernel='poly'))])\n",
        "param_grid = [{'model__gamma':['scale','auto'],'model__C':[1.0, 0.1, 0.01],'model__epsilon':[1.0,0.1,0.01]}]\n",
        "\n",
        "gs = GridSearchCV(estimator=pipe, param_grid=param_grid, n_jobs=multiprocessing.cpu_count(), cv=2, verbose=True)\n",
        "\n",
        "gs.fit(X,y)"
      ],
      "execution_count": 74,
      "outputs": [
        {
          "output_type": "stream",
          "text": [
            "Fitting 2 folds for each of 18 candidates, totalling 36 fits\n"
          ],
          "name": "stdout"
        },
        {
          "output_type": "stream",
          "text": [
            "[Parallel(n_jobs=2)]: Using backend LokyBackend with 2 concurrent workers.\n",
            "[Parallel(n_jobs=2)]: Done  36 out of  36 | elapsed:    0.6s finished\n"
          ],
          "name": "stderr"
        },
        {
          "output_type": "execute_result",
          "data": {
            "text/plain": [
              "GridSearchCV(cv=2, error_score=nan,\n",
              "             estimator=Pipeline(memory=None,\n",
              "                                steps=[('scaler',\n",
              "                                        MinMaxScaler(copy=True,\n",
              "                                                     feature_range=(0, 1))),\n",
              "                                       ('model',\n",
              "                                        SVR(C=1.0, cache_size=200, coef0=0.0,\n",
              "                                            degree=3, epsilon=0.1,\n",
              "                                            gamma='scale', kernel='poly',\n",
              "                                            max_iter=-1, shrinking=True,\n",
              "                                            tol=0.001, verbose=False))],\n",
              "                                verbose=False),\n",
              "             iid='deprecated', n_jobs=2,\n",
              "             param_grid=[{'model__C': [1.0, 0.1, 0.01],\n",
              "                          'model__epsilon': [1.0, 0.1, 0.01],\n",
              "                          'model__gamma': ['scale', 'auto']}],\n",
              "             pre_dispatch='2*n_jobs', refit=True, return_train_score=False,\n",
              "             scoring=None, verbose=True)"
            ]
          },
          "metadata": {
            "tags": []
          },
          "execution_count": 74
        }
      ]
    },
    {
      "cell_type": "code",
      "metadata": {
        "colab": {
          "base_uri": "https://localhost:8080/"
        },
        "id": "_vYxeM7uzljN",
        "outputId": "c956b9d1-d3d5-4af4-975f-e0ae60dab9a2"
      },
      "source": [
        "gs.best_estimator_"
      ],
      "execution_count": 75,
      "outputs": [
        {
          "output_type": "execute_result",
          "data": {
            "text/plain": [
              "Pipeline(memory=None,\n",
              "         steps=[('scaler', MinMaxScaler(copy=True, feature_range=(0, 1))),\n",
              "                ('model',\n",
              "                 SVR(C=1.0, cache_size=200, coef0=0.0, degree=3, epsilon=0.1,\n",
              "                     gamma='scale', kernel='poly', max_iter=-1, shrinking=True,\n",
              "                     tol=0.001, verbose=False))],\n",
              "         verbose=False)"
            ]
          },
          "metadata": {
            "tags": []
          },
          "execution_count": 75
        }
      ]
    },
    {
      "cell_type": "code",
      "metadata": {
        "colab": {
          "base_uri": "https://localhost:8080/"
        },
        "id": "HsrEvVBKzljN",
        "outputId": "07cff895-6e84-4c42-8008-f18c889d7fac"
      },
      "source": [
        "model = gs.best_estimator_\n",
        "model.fit(X_train,y_train)"
      ],
      "execution_count": 76,
      "outputs": [
        {
          "output_type": "execute_result",
          "data": {
            "text/plain": [
              "Pipeline(memory=None,\n",
              "         steps=[('scaler', MinMaxScaler(copy=True, feature_range=(0, 1))),\n",
              "                ('model',\n",
              "                 SVR(C=1.0, cache_size=200, coef0=0.0, degree=3, epsilon=0.1,\n",
              "                     gamma='scale', kernel='poly', max_iter=-1, shrinking=True,\n",
              "                     tol=0.001, verbose=False))],\n",
              "         verbose=False)"
            ]
          },
          "metadata": {
            "tags": []
          },
          "execution_count": 76
        }
      ]
    },
    {
      "cell_type": "code",
      "metadata": {
        "colab": {
          "base_uri": "https://localhost:8080/"
        },
        "id": "Jlxd7THTzljN",
        "outputId": "a4c5d281-cb24-4569-9757-26a94683aabb"
      },
      "source": [
        "print(\"학습데이터 점수: {}\".format(model.score(X_train,y_train)))\n",
        "print(\"평가데이터 점수: {}\".format(model.score(X_test,y_test)))"
      ],
      "execution_count": 77,
      "outputs": [
        {
          "output_type": "stream",
          "text": [
            "학습데이터 점수: 0.9632897140570895\n",
            "평가데이터 점수: 0.9597388514692723\n"
          ],
          "name": "stdout"
        }
      ]
    },
    {
      "cell_type": "code",
      "metadata": {
        "id": "tFzJqB-nz46u"
      },
      "source": [
        ""
      ],
      "execution_count": null,
      "outputs": []
    }
  ]
}